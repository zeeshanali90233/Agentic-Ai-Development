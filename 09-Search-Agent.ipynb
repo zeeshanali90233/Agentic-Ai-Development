{
 "cells": [
  {
   "cell_type": "markdown",
   "id": "0bc42bbd",
   "metadata": {},
   "source": [
    "# Internet Search AI Agent\n",
    "\n",
    "The biggest problem with LLM agents is their lack of connection to recent and up-to-date data.  \n",
    "To overcome this problem, we add a tool that can search the internet for these queries.\n"
   ]
  },
  {
   "cell_type": "markdown",
   "id": "6b01bf81",
   "metadata": {},
   "source": [
    "### Same Reasoning Agent but with Some Search API's"
   ]
  },
  {
   "cell_type": "markdown",
   "id": "9f552f64",
   "metadata": {},
   "source": [
    "### DuckDuckGO\n",
    "DuckDuckGo is a privacy-focused search engine that delivers search results without tracking users or storing personal data."
   ]
  },
  {
   "cell_type": "code",
   "execution_count": null,
   "id": "b654da01",
   "metadata": {},
   "outputs": [
    {
     "name": "stdout",
     "output_type": "stream",
     "text": [
      "Requirement already satisfied: duckduckgo-search in c:\\users\\786\\desktop\\sessions\\agentic ai 2 month skill ustad\\venv\\lib\\site-packages (8.1.1)\n",
      "Requirement already satisfied: click>=8.1.8 in c:\\users\\786\\desktop\\sessions\\agentic ai 2 month skill ustad\\venv\\lib\\site-packages (from duckduckgo-search) (8.2.1)\n",
      "Requirement already satisfied: primp>=0.15.0 in c:\\users\\786\\desktop\\sessions\\agentic ai 2 month skill ustad\\venv\\lib\\site-packages (from duckduckgo-search) (0.15.0)\n",
      "Requirement already satisfied: lxml>=5.3.0 in c:\\users\\786\\desktop\\sessions\\agentic ai 2 month skill ustad\\venv\\lib\\site-packages (from duckduckgo-search) (6.0.1)\n",
      "Requirement already satisfied: colorama in c:\\users\\786\\desktop\\sessions\\agentic ai 2 month skill ustad\\venv\\lib\\site-packages (from click>=8.1.8->duckduckgo-search) (0.4.6)\n"
     ]
    },
    {
     "name": "stderr",
     "output_type": "stream",
     "text": [
      "c:\\Users\\786\\Desktop\\Sessions\\Agentic AI 2 Month Skill Ustad\\venv\\Lib\\site-packages\\IPython\\utils\\_process_win32.py:138: ResourceWarning: unclosed file <_io.BufferedWriter name=3>\n",
      "  res = process_handler(cmd, _system_body)\n",
      "ResourceWarning: Enable tracemalloc to get the object allocation traceback\n",
      "c:\\Users\\786\\Desktop\\Sessions\\Agentic AI 2 Month Skill Ustad\\venv\\Lib\\site-packages\\IPython\\utils\\_process_win32.py:138: ResourceWarning: unclosed file <_io.BufferedReader name=4>\n",
      "  res = process_handler(cmd, _system_body)\n",
      "ResourceWarning: Enable tracemalloc to get the object allocation traceback\n",
      "c:\\Users\\786\\Desktop\\Sessions\\Agentic AI 2 Month Skill Ustad\\venv\\Lib\\site-packages\\IPython\\utils\\_process_win32.py:138: ResourceWarning: unclosed file <_io.BufferedReader name=5>\n",
      "  res = process_handler(cmd, _system_body)\n",
      "ResourceWarning: Enable tracemalloc to get the object allocation traceback\n"
     ]
    }
   ],
   "source": [
    "# Package Link: https://pypi.org/project/duckduckgo-search/\n",
    "\n",
    "\n",
    "!pip install duckduckgo-search"
   ]
  },
  {
   "cell_type": "code",
   "execution_count": 29,
   "id": "f03abdb1",
   "metadata": {},
   "outputs": [
    {
     "name": "stderr",
     "output_type": "stream",
     "text": [
      "C:\\Users\\786\\AppData\\Local\\Temp\\ipykernel_13988\\1556922664.py:3: RuntimeWarning: This package (`duckduckgo_search`) has been renamed to `ddgs`! Use `pip install ddgs` instead.\n",
      "  results = DDGS().text(\"python programming\", max_results=5)\n"
     ]
    },
    {
     "name": "stdout",
     "output_type": "stream",
     "text": [
      "[{'title': 'Welcome to Python.org', 'href': 'https://www.python.org/', 'body': 'Experienced programmers in any other language can pick up Python very quickly, and beginners find the clean syntax and …'}, {'title': 'Python Tutorial - W3Schools', 'href': 'https://www.w3schools.com/python/', 'body': 'Well organized and easy to understand Web building tutorials with lots of examples of how to use HTML, CSS, JavaScript, SQL, …'}, {'title': 'Learn Python Programming', 'href': 'https://www.programiz.com/python-programming', 'body': 'If you want to learn Python for free with a well-organized, step-by-step tutorial, you can use our free Python tutorials. Our …'}, {'title': 'Python Tutorial - GeeksforGeeks', 'href': 'https://www.geeksforgeeks.org/python/python-programming-language-tutorial/', 'body': '4 days ago · In this section, we’ll cover the basics of Python programming, including installing Python, writing first program, …'}, {'title': 'Python (programming language) - Wikipedia', 'href': 'https://en.wikipedia.org/wiki/Python_(programming_language)', 'body': 'A common neologism in the Python community is pythonic, which has a wide range of meanings related to program …'}]\n"
     ]
    }
   ],
   "source": [
    "from duckduckgo_search import DDGS\n",
    "\n",
    "results = DDGS().text(\"python programming\", max_results=5)\n",
    "print(results)"
   ]
  },
  {
   "cell_type": "code",
   "execution_count": 30,
   "id": "790c94bb",
   "metadata": {},
   "outputs": [
    {
     "name": "stderr",
     "output_type": "stream",
     "text": [
      "C:\\Users\\786\\AppData\\Local\\Temp\\ipykernel_13988\\1462806306.py:1: RuntimeWarning: This package (`duckduckgo_search`) has been renamed to `ddgs`! Use `pip install ddgs` instead.\n",
      "  results = DDGS().text(\"Zeeshan Ali P2PClouds\", max_results=5)\n"
     ]
    },
    {
     "name": "stdout",
     "output_type": "stream",
     "text": [
      "[{'title': 'Zeeshan Ali | Software Engineer & AI Developer Portfolio', 'href': 'https://zeeshan.p2pclouds.net/', 'body': 'Master JavaScript DOM manipulation and form handling with practical examples and best practices. Learn how to connect EC2 instances to Node.js applications for scalable cloud …Explore 20+ technical articles, tutorials, and insights on software development, programming best practices, and emerging technologies. L…'}, {'title': 'Zeeshan Ali - YouTube', 'href': 'https://www.youtube.com/@learnwithaliengineer/videos', 'body': '🌟 Welcome to LearnWithAliengineer! 🚀I’m a Software Engineer @P2PClouds and Instructor @NeXskill, sharing tutorials, projects, and insights to help you mast...'}, {'title': 'P2P Clouds Management Team | Org Chart - RocketReach', 'href': 'https://rocketreach.co/p2p-clouds-management_b79d5a49c5aa543c', 'body': 'The P2P Clouds management team includes Zeeshan Ali (Technical Project Manager), Muhammad Tayyab (Digital Marketing Intern), and Muhammad Kayani (Mern Stack Developer …'}, {'title': 'Zeeshan Ali - Facebook', 'href': 'https://www.facebook.com/zeeshan.ali.285615/', 'body': 'Web instructor at NeXskill - Be Productive. Software Engineer at P2P Clouds. Studied Full Stack Web Development Course (MERN) at NeXskill - Be Productive. Studies at University of …'}, {'title': 'Thanks to the whole team of P2P Clouds and Mian Ahmad Basit', 'href': 'https://www.linkedin.com/posts/zeeshan-ali-dev_p2pclouds-softwareengineer-projectmanager-activity-7242569679683108864-0Yi_', 'body': '🎉 Congratulations to Zeeshan Ali on your well-deserved promotion to Project Manager! 🎉 Your dedication, hard work, and leadership have truly shined through, and this promotion is a …'}]\n"
     ]
    }
   ],
   "source": [
    "results = DDGS().text(\"Zeeshan Ali P2PClouds\", max_results=5)\n",
    "print(results)"
   ]
  },
  {
   "cell_type": "code",
   "execution_count": 31,
   "id": "e0eae074",
   "metadata": {},
   "outputs": [
    {
     "name": "stderr",
     "output_type": "stream",
     "text": [
      "C:\\Users\\786\\AppData\\Local\\Temp\\ipykernel_13988\\1458940711.py:2: RuntimeWarning: This package (`duckduckgo_search`) has been renamed to `ddgs`! Use `pip install ddgs` instead.\n",
      "  results = DDGS().text(query, max_results=5)\n"
     ]
    },
    {
     "data": {
      "text/plain": [
       "[]"
      ]
     },
     "execution_count": 31,
     "metadata": {},
     "output_type": "execute_result"
    }
   ],
   "source": [
    "def searchOnInternet(query: str):\n",
    "    results = DDGS().text(query, max_results=5)\n",
    "    return results\n",
    "\n",
    "\n",
    "searchOnInternet(\"What is Python programming language?\")"
   ]
  },
  {
   "cell_type": "code",
   "execution_count": null,
   "id": "52b12c5a",
   "metadata": {},
   "outputs": [],
   "source": [
    "from langgraph.prebuilt import create_react_agent\n",
    "\n",
    "from langchain_google_genai import ChatGoogleGenerativeAI\n",
    "from langgraph.checkpoint.memory import InMemorySaver\n",
    "\n",
    "llm = ChatGoogleGenerativeAI(\n",
    "    api_key=\"<API_KEY>\",\n",
    "    model=\"gemini-2.5-flash\",\n",
    "    temperature=0,\n",
    "    max_tokens=None,\n",
    "    timeout=None,\n",
    "    max_retries=2\n",
    ")\n"
   ]
  },
  {
   "cell_type": "code",
   "execution_count": 33,
   "id": "e8001235",
   "metadata": {},
   "outputs": [],
   "source": [
    "def searchOnInternet(query: str):\n",
    "    \"\"\"Search the internet for a query.\"\"\"\n",
    "    results = DDGS().text(query, max_results=5)\n",
    "    print(results)\n",
    "    return results\n",
    "\n",
    "\n",
    "# Create an agent with Checkpointer Memory\n",
    "memory = InMemorySaver()\n",
    "\n",
    "agent = create_react_agent(\n",
    "    model=llm,\n",
    "    tools=[searchOnInternet],\n",
    "    prompt=\"You are a helpful assistant\",\n",
    "    checkpointer=memory\n",
    ")"
   ]
  },
  {
   "cell_type": "code",
   "execution_count": 34,
   "id": "0745eeb3",
   "metadata": {},
   "outputs": [
    {
     "name": "stderr",
     "output_type": "stream",
     "text": [
      "C:\\Users\\786\\AppData\\Local\\Temp\\ipykernel_13988\\1941833314.py:3: RuntimeWarning: This package (`duckduckgo_search`) has been renamed to `ddgs`! Use `pip install ddgs` instead.\n",
      "  results = DDGS().text(query, max_results=5)\n"
     ]
    },
    {
     "name": "stdout",
     "output_type": "stream",
     "text": [
      "[]\n",
      "I couldn't find any information about an AI Engineer named Zeeshan Ali. It's possible the name is misspelled, or the person may not have a significant online presence.\n"
     ]
    }
   ],
   "source": [
    "# Run the agent\n",
    "response=agent.invoke(\n",
    "    {\"messages\": [{\"role\": \"user\", \"content\": \"Who is Zeeshan Ali Ai Engineer?\"}]},\n",
    "    config={\"configurable\": {\"thread_id\": \"user123\"}}\n",
    ")\n",
    "\n",
    "# Last Message\n",
    "print(response['messages'][-1].content)"
   ]
  },
  {
   "cell_type": "markdown",
   "id": "a5d487d0",
   "metadata": {},
   "source": [
    "### More Powerfull Google Search API \n",
    "\n",
    "#### Using Serp API \n",
    "SerpAPI is a real-time API service that lets you scrape search engine results (Google, Bing, Baidu, DuckDuckGo, YouTube, etc.) in a structured JSON format, without worrying about captchas, proxies, or rate limits.\n",
    "\n",
    "Platform Site: https://serpapi.com/ \n",
    "\n",
    "Sign there first\n",
    "\n",
    "Copy The API Key\n",
    "\n"
   ]
  },
  {
   "cell_type": "code",
   "execution_count": 38,
   "id": "32ef287a",
   "metadata": {},
   "outputs": [
    {
     "name": "stdout",
     "output_type": "stream",
     "text": [
      "Requirement already satisfied: google-search-results in c:\\users\\786\\desktop\\sessions\\agentic ai 2 month skill ustad\\venv\\lib\\site-packages (2.4.2)\n",
      "Requirement already satisfied: requests in c:\\users\\786\\desktop\\sessions\\agentic ai 2 month skill ustad\\venv\\lib\\site-packages (from google-search-results) (2.32.5)\n",
      "Requirement already satisfied: charset_normalizer<4,>=2 in c:\\users\\786\\desktop\\sessions\\agentic ai 2 month skill ustad\\venv\\lib\\site-packages (from requests->google-search-results) (3.4.3)\n",
      "Requirement already satisfied: idna<4,>=2.5 in c:\\users\\786\\desktop\\sessions\\agentic ai 2 month skill ustad\\venv\\lib\\site-packages (from requests->google-search-results) (3.10)\n",
      "Requirement already satisfied: urllib3<3,>=1.21.1 in c:\\users\\786\\desktop\\sessions\\agentic ai 2 month skill ustad\\venv\\lib\\site-packages (from requests->google-search-results) (2.5.0)\n",
      "Requirement already satisfied: certifi>=2017.4.17 in c:\\users\\786\\desktop\\sessions\\agentic ai 2 month skill ustad\\venv\\lib\\site-packages (from requests->google-search-results) (2025.8.3)\n"
     ]
    },
    {
     "name": "stderr",
     "output_type": "stream",
     "text": [
      "c:\\Users\\786\\Desktop\\Sessions\\Agentic AI 2 Month Skill Ustad\\venv\\Lib\\site-packages\\IPython\\utils\\_process_win32.py:138: ResourceWarning: unclosed file <_io.BufferedWriter name=3>\n",
      "  res = process_handler(cmd, _system_body)\n",
      "ResourceWarning: Enable tracemalloc to get the object allocation traceback\n",
      "c:\\Users\\786\\Desktop\\Sessions\\Agentic AI 2 Month Skill Ustad\\venv\\Lib\\site-packages\\IPython\\utils\\_process_win32.py:138: ResourceWarning: unclosed file <_io.BufferedReader name=4>\n",
      "  res = process_handler(cmd, _system_body)\n",
      "ResourceWarning: Enable tracemalloc to get the object allocation traceback\n",
      "c:\\Users\\786\\Desktop\\Sessions\\Agentic AI 2 Month Skill Ustad\\venv\\Lib\\site-packages\\IPython\\utils\\_process_win32.py:138: ResourceWarning: unclosed file <_io.BufferedReader name=5>\n",
      "  res = process_handler(cmd, _system_body)\n",
      "ResourceWarning: Enable tracemalloc to get the object allocation traceback\n"
     ]
    }
   ],
   "source": [
    "# https://pypi.org/project/google-search-results/\n",
    "\n",
    "!pip install google-search-results\n"
   ]
  },
  {
   "cell_type": "code",
   "execution_count": 36,
   "id": "04b718fb",
   "metadata": {},
   "outputs": [],
   "source": [
    "SERP_API_KEY=\"30bb6777f14160edecd011d2b211fbe489b3328b4792d9e7ec63c63701fa2443\""
   ]
  },
  {
   "cell_type": "code",
   "execution_count": 52,
   "id": "91024d1d",
   "metadata": {},
   "outputs": [],
   "source": [
    "from serpapi import GoogleSearch\n",
    "\n",
    "\n",
    "def serpapi_search(query: str):\n",
    "    params = {\n",
    "        \"q\": query,\n",
    "        \"hl\": \"en\",\n",
    "        \"gl\": \"us\",\n",
    "        \"api_key\": SERP_API_KEY\n",
    "    }\n",
    "    search = GoogleSearch(params)\n",
    "    results = search.get_dict()\n",
    "    \n",
    "    # Extract top results (titles + links)\n",
    "    if \"organic_results\" in results:\n",
    "        return [\n",
    "            {\"title\": r[\"title\"], \"link\": r[\"link\"], \"snippet\": r.get(\"snippet\", \"\")}\n",
    "            for r in results[\"organic_results\"][:5]\n",
    "        ]\n",
    "    return {\"error\": \"No results found\"}"
   ]
  },
  {
   "cell_type": "code",
   "execution_count": 51,
   "id": "1a1392ca",
   "metadata": {},
   "outputs": [
    {
     "name": "stdout",
     "output_type": "stream",
     "text": [
      "[{'position': 1, 'title': 'Lahore, Punjab, Pakistan', 'link': 'https://weather.com/weather/today/l/cf5522d2a67ba145bdaac907e186a9f94f0eb96047723746d0ffe6a138be77c2?par=transsion', 'redirect_link': 'https://www.google.com/url?sa=t&source=web&rct=j&opi=89978449&url=https://weather.com/weather/today/l/cf5522d2a67ba145bdaac907e186a9f94f0eb96047723746d0ffe6a138be77c2%3Fpar%3Dtranssion&ved=2ahUKEwi1z8LH4bqPAxUExQIHHf5wDnIQFnoECBkQAQ', 'displayed_link': 'https://weather.com › weather › today', 'favicon': 'https://serpapi.com/searches/68b73eba57c44b998df16039/images/e4b9a8fa3111a2c33e534253b04946ef328f38d4a33e8833038e95b2e1aa9c38.png', 'snippet': 'A steady rain this evening. Showers with perhaps a rumble of thunder developing overnight. Visibility reduced by smoke. Low 74F. Winds ENE at 5 to 10 mph.', 'snippet_highlighted_words': ['A steady rain this evening'], 'source': 'The Weather Channel'}, {'position': 2, 'title': 'Lahore, Punjab, Pakistan Weather Forecast', 'link': 'https://www.accuweather.com/en/pk/lahore/260622/weather-forecast/260622', 'redirect_link': 'https://www.google.com/url?sa=t&source=web&rct=j&opi=89978449&url=https://www.accuweather.com/en/pk/lahore/260622/weather-forecast/260622&ved=2ahUKEwi1z8LH4bqPAxUExQIHHf5wDnIQFnoECBsQAQ', 'displayed_link': 'https://www.accuweather.com › lahore › weather-forecast', 'favicon': 'https://serpapi.com/searches/68b73eba57c44b998df16039/images/e4b9a8fa3111a2c33e534253b04946ef91c70911d5511db10e97f6de540b3e96.png', 'snippet': 'Hourly Weather · 1 AM 77°. rain drop 68% · 2 AM 76°. rain drop 78% · 3 AM 75°. rain drop 49% · 4 AM 74°. rain drop 24% · 5 AM 73°. rain drop 24% · 6 AM 73°.', 'snippet_highlighted_words': ['Hourly Weather'], 'sitelinks': {'inline': [{'title': 'Current Weather', 'link': 'https://www.accuweather.com/en/pk/lahore/260622/current-weather/260622'}, {'title': 'Hourly', 'link': 'https://www.accuweather.com/en/pk/lahore/260622/hourly-weather-forecast/260622'}, {'title': 'Daily', 'link': 'https://www.accuweather.com/en/pk/lahore/260622/daily-weather-forecast/260622'}, {'title': 'Radar', 'link': 'https://www.accuweather.com/en/pk/lahore/260622/weather-radar/260622'}]}, 'source': 'AccuWeather'}, {'position': 3, 'title': 'Lahore, Pakistan 14 day weather forecast', 'link': 'https://www.timeanddate.com/weather/pakistan/lahore/ext', 'redirect_link': 'https://www.google.com/url?sa=t&source=web&rct=j&opi=89978449&url=https://www.timeanddate.com/weather/pakistan/lahore/ext&ved=2ahUKEwi1z8LH4bqPAxUExQIHHf5wDnIQFnoECD0QAQ', 'displayed_link': 'https://www.timeanddate.com › ... › Pakistan › Lahore', 'favicon': 'https://serpapi.com/searches/68b73eba57c44b998df16039/images/e4b9a8fa3111a2c33e534253b04946ef4aa7e097bcd93d24092d66475dfc1ca8.png', 'snippet': 'Lahore Extended Forecast with high and low temperatures ... Thunderstorms. Decreasing cloudiness. Feels Like: 90 °F. Humidity: 69%. Precipitation: Rain: 0.24 Snow ...', 'snippet_highlighted_words': ['Lahore'], 'sitelinks': {'inline': [{'title': 'Hour-by-Hour Forecast', 'link': 'https://www.timeanddate.com/weather/pakistan/lahore/hourly'}, {'title': 'Yesterday/Past Weather', 'link': 'https://www.timeanddate.com/weather/pakistan/lahore/historic'}, {'title': 'Sun & Moon', 'link': 'https://www.timeanddate.com/astronomy/pakistan/lahore'}, {'title': 'Climate (Averages)', 'link': 'https://www.timeanddate.com/weather/pakistan/lahore/climate'}]}, 'source': 'Time and Date'}, {'position': 4, 'title': 'Weather forecast and conditions for Lahore, Punjab, Pakistan', 'link': 'https://weather.com/en-IN/weather/today/l/fd6071c53fc28ecddf13833b8508f14cbe8a514ddc763aa0d316c07b6a5d004d?traffic_source=footerNav_Today', 'redirect_link': 'https://www.google.com/url?sa=t&source=web&rct=j&opi=89978449&url=https://weather.com/en-IN/weather/today/l/fd6071c53fc28ecddf13833b8508f14cbe8a514ddc763aa0d316c07b6a5d004d%3Ftraffic_source%3DfooterNav_Today&ved=2ahUKEwi1z8LH4bqPAxUExQIHHf5wDnIQFnoECDkQAQ', 'displayed_link': 'https://weather.com › en-IN › weather › today', 'favicon': 'https://serpapi.com/searches/68b73eba57c44b998df16039/images/e4b9a8fa3111a2c33e534253b04946ef9a0330b82c6fe8b5f79ea964675516fd.png', 'snippet': 'Weather Today in Lahore, Punjab, Pakistan. Feels Like25°. 05:38. 18:26. High/Low. --/23°. Wind. 18 km/h. Humidity. 87%. Dew Point. 23°. Pressure. 1002.0 mb.', 'snippet_highlighted_words': ['Feels Like25°'], 'source': 'The Weather Channel'}, {'position': 5, 'title': 'Lahore - BBC Weather', 'link': 'https://www.bbc.com/weather/1172451', 'redirect_link': 'https://www.google.com/url?sa=t&source=web&rct=j&opi=89978449&url=https://www.bbc.com/weather/1172451&ved=2ahUKEwi1z8LH4bqPAxUExQIHHf5wDnIQFnoECDIQAQ', 'displayed_link': 'https://www.bbc.com › weather', 'favicon': 'https://serpapi.com/searches/68b73eba57c44b998df16039/images/e4b9a8fa3111a2c33e534253b04946eff5adf58715e3548f691770ea541031d9.png', 'snippet': 'Hour by hour forecast ; 23 · Light Cloud · 26% · Light cloud and light winds ; 00 · Light Rain · 63% · Light rain and light winds ; 01 · Light Rain · 69% · Light rain and ...', 'snippet_highlighted_words': ['Hour by hour forecast'], 'source': 'BBC'}]\n"
     ]
    },
    {
     "data": {
      "text/plain": [
       "[{'title': 'Lahore, Punjab, Pakistan',\n",
       "  'link': 'https://weather.com/weather/today/l/cf5522d2a67ba145bdaac907e186a9f94f0eb96047723746d0ffe6a138be77c2?par=transsion',\n",
       "  'snippet': 'A steady rain this evening. Showers with perhaps a rumble of thunder developing overnight. Visibility reduced by smoke. Low 74F. Winds ENE at 5 to 10 mph.'},\n",
       " {'title': 'Lahore, Punjab, Pakistan Weather Forecast',\n",
       "  'link': 'https://www.accuweather.com/en/pk/lahore/260622/weather-forecast/260622',\n",
       "  'snippet': 'Hourly Weather · 1 AM 77°. rain drop 68% · 2 AM 76°. rain drop 78% · 3 AM 75°. rain drop 49% · 4 AM 74°. rain drop 24% · 5 AM 73°. rain drop 24% · 6 AM 73°.'},\n",
       " {'title': 'Lahore, Pakistan 14 day weather forecast',\n",
       "  'link': 'https://www.timeanddate.com/weather/pakistan/lahore/ext',\n",
       "  'snippet': 'Lahore Extended Forecast with high and low temperatures ... Thunderstorms. Decreasing cloudiness. Feels Like: 90 °F. Humidity: 69%. Precipitation: Rain: 0.24 Snow ...'},\n",
       " {'title': 'Weather forecast and conditions for Lahore, Punjab, Pakistan',\n",
       "  'link': 'https://weather.com/en-IN/weather/today/l/fd6071c53fc28ecddf13833b8508f14cbe8a514ddc763aa0d316c07b6a5d004d?traffic_source=footerNav_Today',\n",
       "  'snippet': 'Weather Today in Lahore, Punjab, Pakistan. Feels Like25°. 05:38. 18:26. High/Low. --/23°. Wind. 18 km/h. Humidity. 87%. Dew Point. 23°. Pressure. 1002.0 mb.'},\n",
       " {'title': 'Lahore - BBC Weather',\n",
       "  'link': 'https://www.bbc.com/weather/1172451',\n",
       "  'snippet': 'Hour by hour forecast ; 23 · Light Cloud · 26% · Light cloud and light winds ; 00 · Light Rain · 63% · Light rain and light winds ; 01 · Light Rain · 69% · Light rain and ...'}]"
      ]
     },
     "execution_count": 51,
     "metadata": {},
     "output_type": "execute_result"
    }
   ],
   "source": [
    "serpapi_search(\"What is the CYUrrent lahore weather\")"
   ]
  },
  {
   "cell_type": "code",
   "execution_count": 53,
   "id": "f4b5e49c",
   "metadata": {},
   "outputs": [
    {
     "data": {
      "text/plain": [
       "[{'title': 'Zeeshan Ali | Software Engineer & AI Developer ... - P2P Clouds',\n",
       "  'link': 'https://zeeshan.p2pclouds.net/',\n",
       "  'snippet': \"I'm a Technical Project Manager currently working at P2P Clouds and Instructor at NeXskill. I have my expertise in web, cross platform mobile application ...\"},\n",
       " {'title': 'Zeeshan Ali',\n",
       "  'link': 'https://medium.com/@zeeshanali90233/zeeshan-ali-64ce5191c06f',\n",
       "  'snippet': \"As a software developer at P2P Clouds and a recipient of the Dean's Academic Award at University of Management and Technology (UMT), Zeeshan has ...\"},\n",
       " {'title': 'Zeeshan Ali zeeshanali90233',\n",
       "  'link': 'https://github.com/zeeshanali90233',\n",
       "  'snippet': \"I'm working as Technical Project Manager @ P2PClouds and Web Instructor @ NexSkill PVT LTD... - I have my expertise in Web/Mobile App, AI , Ai Agents and ...\"},\n",
       " {'title': \"Software Engineer at P2P Clouds - Zeeshan Ali's contacts\",\n",
       "  'link': 'https://www.signalhire.com/profiles/zeeshan-ali/214364204',\n",
       "  'snippet': 'On average, Zeeshan Ali works for one company for 10 months. Zeeshan Ali has been working as a Software Engineer for P2P Clouds for 792 days. If you are ...'},\n",
       " {'title': 'Official Home Page | Cloud Solutions, AI & IT Services.',\n",
       "  'link': 'https://p2pclouds.net/about/',\n",
       "  'snippet': 'Our Team ; Mian Ahmad Basit. CEO – P2P Clouds. CEO – P2P Clouds ; Zeeshan Ali. Technical Project Manager. Technical Project Manager ; Ahmad Hasan. Software ...'}]"
      ]
     },
     "execution_count": 53,
     "metadata": {},
     "output_type": "execute_result"
    }
   ],
   "source": [
    "serpapi_search(\"Who is Zeeshan Ali P2PClouds \")"
   ]
  },
  {
   "cell_type": "code",
   "execution_count": 54,
   "id": "975f31f5",
   "metadata": {},
   "outputs": [
    {
     "data": {
      "text/plain": [
       "[{'title': 'PAK vs AFG LIVE Cricket Score, Tri Series 4th T20I',\n",
       "  'link': 'https://indianexpress.com/article/sports/cricket/pakistan-vs-afghanistan-t20i-live-cricket-score-today-match-4-sharjah-updates-10226270/',\n",
       "  'snippet': 'PAK vs AFG LIVE Cricket Score, Tri Series 4th T20I: Pakistan 37/2 (Target 170), Sahibzada Farhan departs for 18 in Sharjah.'},\n",
       " {'title': 'Afghanistan vs Pakistan Live Score, 4th T20I Tri-Series',\n",
       "  'link': 'https://www.timesnownews.com/sports/cricket/afghanistan-vs-pakistan-live-score-4th-t20i-tri-series-afg-vs-pak-afghanistan-national-cricket-team-vs-pakistan-national-cricket-team-match-scorecard-commentary-from-uae-liveblog-152645376',\n",
       "  'snippet': 'Afghanistan vs Pakistan Live Score, 4th T20I Tri-Series: Fazalhaq Farooqi Puts Afghanistan On Top; Dismisses Both Pakistan Openers In 170 Chase.'},\n",
       " {'title': 'T20 Tri-series: Pakistan vs Afghanistan Playing 11, timing, ...',\n",
       "  'link': 'https://www.business-standard.com/cricket/news/t20-tri-series-pakistan-vs-afghanistan-playing-11-timing-live-streaming-125090101149_1.html',\n",
       "  'snippet': 'Pakistan will go toe-to-toe with Afghanistan in the fourth game of the T20 tri-series on Monday, September 2. What will be the venue for the ...'},\n",
       " {'title': 'AFG vs PAK Live Streaming Info, T20 Tri-Series 2025 - Sportstar',\n",
       "  'link': 'https://sportstar.thehindu.com/cricket/afg-vs-pak-live-streaming-info-t20-tri-series-2025-date-time-venue-september-2-afghanistan-pakistan-match-details-full-squads/article70003331.ece',\n",
       "  'snippet': 'The tri-series 2025 match between Afghanistan and Pakistan will be played on Tuesday, September 2. Where will the tri-series 2025 match ...'},\n",
       " {'title': 'Pakistan Cricket Team Schedule, Results & Timetable',\n",
       "  'link': 'https://www.espncricinfo.com/team/pakistan-7/match-schedule-fixtures-and-results',\n",
       "  'snippet': \"Pakistan won by 31 runs. Tue, 02 Sep '25. Live. 4th Match (N) • Sharjah, September 02, 2025, United Arab Emirates T20I Tri-Series. AFG Flag. AFG. 169/5. PAK ...\"}]"
      ]
     },
     "execution_count": 54,
     "metadata": {},
     "output_type": "execute_result"
    }
   ],
   "source": [
    "serpapi_search(\"Who in the 2nd Sep Pak Cricket match\")"
   ]
  },
  {
   "cell_type": "code",
   "execution_count": null,
   "id": "2a21e522",
   "metadata": {},
   "outputs": [],
   "source": [
    "from langgraph.prebuilt import create_react_agent\n",
    "\n",
    "from langchain_google_genai import ChatGoogleGenerativeAI\n",
    "from langgraph.checkpoint.memory import InMemorySaver\n",
    "\n",
    "llm = ChatGoogleGenerativeAI(\n",
    "    api_key=\"<API_KEY>\",\n",
    "    model=\"gemini-2.5-flash\",\n",
    "    temperature=0,\n",
    "    max_tokens=None,\n",
    "    timeout=None,\n",
    "    max_retries=2\n",
    ")\n"
   ]
  },
  {
   "cell_type": "code",
   "execution_count": 55,
   "id": "f7aa740d",
   "metadata": {},
   "outputs": [],
   "source": [
    "from serpapi import GoogleSearch\n",
    "\n",
    "\n",
    "def serpapi_search(query: str):\n",
    "    \"\"\"Searches for a query using the SerpAPI.\"\"\"\n",
    "    params = {\n",
    "        \"q\": query,\n",
    "        \"hl\": \"en\",\n",
    "        \"gl\": \"us\",\n",
    "        \"api_key\": SERP_API_KEY\n",
    "    }\n",
    "    search = GoogleSearch(params)\n",
    "    results = search.get_dict()\n",
    "    \n",
    "    # Extract top results (titles + links)\n",
    "    if \"organic_results\" in results:\n",
    "        return [\n",
    "            {\"title\": r[\"title\"], \"link\": r[\"link\"], \"snippet\": r.get(\"snippet\", \"\")}\n",
    "            for r in results[\"organic_results\"][:5]\n",
    "        ]\n",
    "    return {\"error\": \"No results found\"}\n",
    "\n",
    "\n",
    "\n",
    "# Create an agent with Checkpointer Memory\n",
    "memory = InMemorySaver()\n",
    "\n",
    "agent = create_react_agent(\n",
    "    model=llm,\n",
    "    tools=[serpapi_search],\n",
    "    prompt=\"You are a helpful assistant\",\n",
    "    checkpointer=memory\n",
    ")"
   ]
  },
  {
   "cell_type": "code",
   "execution_count": 56,
   "id": "b07c0b31",
   "metadata": {},
   "outputs": [
    {
     "name": "stdout",
     "output_type": "stream",
     "text": [
      "Afghanistan defeated Pakistan by 18 runs in the T20I Tri-Series match on September 2nd, 2025.\n"
     ]
    }
   ],
   "source": [
    "# Run the agent\n",
    "response=agent.invoke(\n",
    "    {\"messages\": [{\"role\": \"user\", \"content\": \"Who won in the 2nd Sep Pak Cricket match\"}]},\n",
    "    config={\"configurable\": {\"thread_id\": \"user123\"}}\n",
    ")\n",
    "\n",
    "# Last Message\n",
    "print(response['messages'][-1].content)"
   ]
  },
  {
   "cell_type": "code",
   "execution_count": 57,
   "id": "e992f88d",
   "metadata": {},
   "outputs": [
    {
     "name": "stdout",
     "output_type": "stream",
     "text": [
      "Yes, you just asked me about the 2nd Sep Pak Cricket match.\n"
     ]
    }
   ],
   "source": [
    "# Run the agent\n",
    "response=agent.invoke(\n",
    "    {\"messages\": [{\"role\": \"user\", \"content\": \"Does i ask about match from you in pastconersation ?\"}]},\n",
    "    config={\"configurable\": {\"thread_id\": \"user123\"}}\n",
    ")\n",
    "\n",
    "# Last Message\n",
    "print(response['messages'][-1].content)"
   ]
  },
  {
   "cell_type": "code",
   "execution_count": null,
   "id": "3dec6343",
   "metadata": {},
   "outputs": [],
   "source": []
  }
 ],
 "metadata": {
  "kernelspec": {
   "display_name": "venv",
   "language": "python",
   "name": "python3"
  },
  "language_info": {
   "codemirror_mode": {
    "name": "ipython",
    "version": 3
   },
   "file_extension": ".py",
   "mimetype": "text/x-python",
   "name": "python",
   "nbconvert_exporter": "python",
   "pygments_lexer": "ipython3",
   "version": "3.13.7"
  }
 },
 "nbformat": 4,
 "nbformat_minor": 5
}
