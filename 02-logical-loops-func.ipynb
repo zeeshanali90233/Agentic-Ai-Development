{
 "cells": [
  {
   "cell_type": "code",
   "execution_count": 3,
   "id": "5c2c40a3",
   "metadata": {},
   "outputs": [
    {
     "name": "stdout",
     "output_type": "stream",
     "text": [
      "Hello to 2nd Class of Agentic AI 2 month Course\n"
     ]
    }
   ],
   "source": [
    "print(\"Hello to 2nd Class of Agentic AI 2 month Course\")"
   ]
  },
  {
   "cell_type": "markdown",
   "id": "1851b05c",
   "metadata": {},
   "source": [
    "# Logical Operations: and, or, not  \n",
    "\n",
    "## Definition  \n",
    "Logical operators combine conditions and return **True or False**.  \n",
    "\n",
    "## Operators & Simple Analogies  \n",
    "\n",
    "- **and** → Both must be True  \n",
    "  - Like: *You can play outside **if it’s sunny AND you finished homework***.  \n",
    "\n",
    "- **or** → At least one must be True  \n",
    "  - Like: *You can have dessert **if there’s cake OR ice cream***.  \n",
    "\n",
    "- **not** → Flips True to False (and False to True)  \n",
    "  - Like: *If the light is **not** on → it’s off*.  \n"
   ]
  },
  {
   "cell_type": "code",
   "execution_count": 3,
   "id": "f153c288",
   "metadata": {},
   "outputs": [
    {
     "name": "stdout",
     "output_type": "stream",
     "text": [
      "You need to finish your homework first.\n"
     ]
    }
   ],
   "source": [
    "is_sunny=False\n",
    "is_hw_finished=True\n",
    "\n",
    "if is_sunny==True and is_hw_finished==True:\n",
    "    print(\"You can go outside and play!\")\n",
    "else:\n",
    "    print(\"You need to finish your homework first.\")\n"
   ]
  },
  {
   "cell_type": "code",
   "execution_count": 6,
   "id": "dddc5226",
   "metadata": {},
   "outputs": [
    {
     "name": "stdout",
     "output_type": "stream",
     "text": [
      "You can have dessert!\n"
     ]
    }
   ],
   "source": [
    "dinner_item=\"cake\"\n",
    "\n",
    "if dinner_item == \"cake\" or dinner_item == \"ice cream\":\n",
    "    print(\"You can have dessert!\")"
   ]
  },
  {
   "cell_type": "code",
   "execution_count": 8,
   "id": "479bccae",
   "metadata": {},
   "outputs": [
    {
     "name": "stdout",
     "output_type": "stream",
     "text": [
      "Good you are saving electricity\n"
     ]
    }
   ],
   "source": [
    "# Not Operator\n",
    "\n",
    "is_light_on=False\n",
    "\n",
    "#  Not True = False\n",
    "#  Not False = True\n",
    "if not is_light_on:\n",
    "    print(\"Good you are saving electricity\")\n",
    "else:\n",
    "    print(\"The light is on\")\n"
   ]
  },
  {
   "cell_type": "code",
   "execution_count": null,
   "id": "cac8b0fe",
   "metadata": {},
   "outputs": [],
   "source": [
    "# 1) A student is allowed to sit in the exam if attendance is above 75% AND assignment is submitted.\n",
    "# 2) You can go out if it’s Saturday OR Sunday, and NOT raining.\n",
    "\n",
    "# Using Logical Operators "
   ]
  },
  {
   "cell_type": "markdown",
   "id": "bddbf70a",
   "metadata": {},
   "source": [
    "# Loops in Python  \n",
    "\n",
    "## Definition  \n",
    "Loops let Python **repeat actions** without writing the same code again and again.  \n",
    "\n",
    "## Types  \n",
    "- **for loop** → repeats a fixed number of times (goes through items in a list, range, etc.)  \n",
    "- **while loop** → repeats as long as a condition is True  \n",
    "\n",
    "## Simple Analogies  \n",
    "\n",
    "- **for loop**:  \n",
    "  - Like **counting chocolates in a box** → check each one until the box is empty.  \n",
    "  - Like **reading pages in a book** → go page by page until the last page.  \n",
    "\n",
    "- **while loop**:  \n",
    "  - Like **playing a game** → keep playing **while you still have lives left**.  \n",
    "  - Like **watering plants** → keep watering **while the soil is dry**.  \n"
   ]
  },
  {
   "cell_type": "code",
   "execution_count": 10,
   "id": "14d5e9d1",
   "metadata": {},
   "outputs": [
    {
     "name": "stdout",
     "output_type": "stream",
     "text": [
      "Hello zdxfg\n",
      "Hello dsf\n",
      "Hello ert\n",
      "Hello sdfg\n",
      "Hello gthy\n"
     ]
    }
   ],
   "source": [
    "for i in range(5):\n",
    "    name=input(\"Enter your name: \")\n",
    "    print(\"Hello \" + name)"
   ]
  },
  {
   "cell_type": "code",
   "execution_count": 12,
   "id": "8626bc97",
   "metadata": {},
   "outputs": [
    {
     "name": "stdout",
     "output_type": "stream",
     "text": [
      "10\n",
      "12\n",
      "14\n",
      "16\n",
      "18\n",
      "20\n",
      "22\n",
      "24\n",
      "26\n",
      "28\n",
      "30\n",
      "32\n",
      "34\n",
      "36\n",
      "38\n",
      "40\n",
      "42\n",
      "44\n",
      "46\n",
      "48\n"
     ]
    }
   ],
   "source": [
    "# Range Based\n",
    "        # range start, ending, jump\n",
    "for i in range(10,50,2):\n",
    "    print(i)\n",
    "\n",
    "# Make a for loop that print evennumbers from 0 to 100"
   ]
  },
  {
   "cell_type": "code",
   "execution_count": 15,
   "id": "3a3e10d8",
   "metadata": {},
   "outputs": [
    {
     "name": "stdout",
     "output_type": "stream",
     "text": [
      "<class 'str'>\n",
      "<class 'int'>\n"
     ]
    }
   ],
   "source": [
    "# TType Casting: When we have to convert one data type into another data type = Type Casting\n",
    "\n",
    "age=\"23\"\n",
    "# We Can't perform any math operation because it is in str\n",
    "print(type(age))\n",
    "\n",
    "# Converting to int Type\n",
    "age = int(age)\n",
    "print(type(age))"
   ]
  },
  {
   "cell_type": "code",
   "execution_count": null,
   "id": "5733d6e0",
   "metadata": {},
   "outputs": [
    {
     "name": "stdout",
     "output_type": "stream",
     "text": [
      "<class 'str'>\n",
      "4\n"
     ]
    }
   ],
   "source": [
    "age=input(\"Enter your age: \")\n",
    "print(type(age))\n",
    "age=int(age)\n",
    "\n",
    "\n",
    "while(age<0):\n",
    "    age=int(input(\"Please enter a valid age: \"))\n",
    "\n",
    "# ==\n",
    "# != T, F\n",
    "for i in range(10,50,2):\n",
    "    print(i)\n",
    "\n",
    "print(age)"
   ]
  },
  {
   "cell_type": "code",
   "execution_count": null,
   "id": "86d2f08f",
   "metadata": {},
   "outputs": [],
   "source": [
    "# 1) Use a for loop to print numbers from 1 to 10.\n",
    "# 2) Use a while loop to keep asking the user for the password until it’s correct.\n",
    "# correct_password=\"234\"\n",
    "# while(user_password!=correct_password)"
   ]
  },
  {
   "cell_type": "markdown",
   "id": "cdc3a848",
   "metadata": {},
   "source": [
    "# Functions\n"
   ]
  },
  {
   "cell_type": "code",
   "execution_count": 19,
   "id": "a9ff890a",
   "metadata": {},
   "outputs": [
    {
     "name": "stdout",
     "output_type": "stream",
     "text": [
      "Hello User\n"
     ]
    }
   ],
   "source": [
    "# Function Declaration & Definition\n",
    "def say_hi():\n",
    "    print(\"Hello User\")\n",
    "\n",
    "say_hi()"
   ]
  },
  {
   "cell_type": "code",
   "execution_count": 22,
   "metadata": {},
   "outputs": [
    {
     "name": "stdout",
     "output_type": "stream",
     "text": [
      "You are eligible to vote.\n",
      "You are eligible to vote.\n",
      "You are eligible to vote.\n"
     ]
    }
   ],
   "source": [
    "def ask_age_and_check_elgibility():\n",
    "    age=input(\"Enter your age: \")\n",
    "    age=int(age)\n",
    "\n",
    "    if age>=18:\n",
    "        print(\"You are eligible to vote.\")\n",
    "    else:\n",
    "        print(\"You are not eligible to vote.\")\n",
    "\n",
    "ask_age_and_check_elgibility()\n",
    "ask_age_and_check_elgibility()\n",
    "ask_age_and_check_elgibility()"
   ]
  },
  {
   "cell_type": "code",
   "execution_count": 28,
   "id": "057be170",
   "metadata": {},
   "outputs": [
    {
     "name": "stdout",
     "output_type": "stream",
     "text": [
      "You are eligible to vote.\n"
     ]
    }
   ],
   "source": [
    "def check_age_eligibility(age,domicile):\n",
    "    if age>=18 and domicile==\"lahore\":\n",
    "        print(\"You are eligible to vote.\")\n",
    "    else:\n",
    "        print(\"You are not eligible to vote.\")\n",
    "\n",
    "check_age_eligibility(20,\"lahore\")"
   ]
  },
  {
   "cell_type": "code",
   "execution_count": 31,
   "id": "f4e6ff26",
   "metadata": {},
   "outputs": [
    {
     "name": "stdout",
     "output_type": "stream",
     "text": [
      "False\n"
     ]
    }
   ],
   "source": [
    "# Return Statements\n",
    "\n",
    "def check_age_eligibility(age,domicile):\n",
    "    if age>=18 and domicile==\"lahore\":\n",
    "        return True\n",
    "    else:\n",
    "        return False\n",
    "\n",
    "isEligible=check_age_eligibility(23,\"karachi\")\n",
    "print(isEligible)"
   ]
  },
  {
   "cell_type": "code",
   "execution_count": null,
   "id": "80e03d3d",
   "metadata": {},
   "outputs": [],
   "source": [
    "# percentage calculator , obtMarks, totalMarks \n",
    "#  percentage return \n",
    "# Compute age from year of birth "
   ]
  }
 ],
 "metadata": {
  "kernelspec": {
   "display_name": "Python 3",
   "language": "python",
   "name": "python3"
  },
  "language_info": {
   "codemirror_mode": {
    "name": "ipython",
    "version": 3
   },
   "file_extension": ".py",
   "mimetype": "text/x-python",
   "name": "python",
   "nbconvert_exporter": "python",
   "pygments_lexer": "ipython3",
   "version": "3.13.7"
  }
 },
 "nbformat": 4,
 "nbformat_minor": 5
}
