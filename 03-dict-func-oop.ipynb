{
 "cells": [
  {
   "cell_type": "markdown",
   "id": "03b94707",
   "metadata": {},
   "source": [
    "# Dictionary\n",
    "## Definition\n",
    "A dictionary is a collection of key–value pairs, where each key is unique and is used to access its corresponding value.\n",
    "\n",
    "## Simple Analogies\n",
    "- Like a real dictionary → a word (key) gives its meaning (value).\n",
    "- Like a contacts list in your phone → a name (key) gives a phone number (value).\n",
    "- Like a student ID card → ID number (key) points to student details (value)."
   ]
  },
  {
   "cell_type": "code",
   "execution_count": 2,
   "id": "331e8f2b",
   "metadata": {},
   "outputs": [],
   "source": [
    "student={\n",
    "    'name': 'John',\n",
    "    'age': 21,\n",
    "    'courses': ['Math', 'Science', 'English']\n",
    "}"
   ]
  },
  {
   "cell_type": "code",
   "execution_count": 6,
   "metadata": {},
   "outputs": [
    {
     "name": "stdout",
     "output_type": "stream",
     "text": [
      "{'name': 'John', 'age': 21, 'courses': ['Math', 'Science', 'English']}\n",
      "John\n",
      "21\n",
      "['Math', 'Science', 'English']\n"
     ]
    }
   ],
   "source": [
    "print(student)\n",
    "print(student['name'])\n",
    "print(student['age'])\n",
    "print(student['courses'])"
   ]
  },
  {
   "cell_type": "code",
   "execution_count": 8,
   "id": "d8ebeac9",
   "metadata": {},
   "outputs": [
    {
     "name": "stdout",
     "output_type": "stream",
     "text": [
      "{'name': 'John', 'age': 21, 'courses': ['Math', 'Science', 'English'], 'phone': '03468714344'}\n"
     ]
    }
   ],
   "source": [
    "# Adding Data to Dictionary \n",
    "\n",
    "student['phone'] = '03468714344'\n",
    "print(student)"
   ]
  },
  {
   "cell_type": "code",
   "execution_count": 9,
   "metadata": {},
   "outputs": [],
   "source": [
    "# Removing Item from Array\n",
    "\n",
    "del student['age']"
   ]
  },
  {
   "cell_type": "code",
   "execution_count": 10,
   "metadata": {},
   "outputs": [
    {
     "name": "stdout",
     "output_type": "stream",
     "text": [
      "{'name': 'John', 'courses': ['Math', 'Science', 'English'], 'phone': '03468714344'}\n"
     ]
    }
   ],
   "source": [
    "print(student)"
   ]
  },
  {
   "cell_type": "code",
   "execution_count": 18,
   "metadata": {},
   "outputs": [
    {
     "name": "stdout",
     "output_type": "stream",
     "text": [
      "dict_keys(['name', 'courses', 'phone'])\n",
      "dict_values(['John', ['Math', 'Science', 'English'], '03468714344'])\n",
      "dict_items([('name', 'John'), ('courses', ['Math', 'Science', 'English']), ('phone', '03468714344')])\n"
     ]
    }
   ],
   "source": [
    "print(student.keys())\n",
    "print(student.values())\n",
    "print(student.items())"
   ]
  },
  {
   "cell_type": "code",
   "execution_count": 19,
   "id": "e3c4fd4a",
   "metadata": {},
   "outputs": [
    {
     "name": "stdout",
     "output_type": "stream",
     "text": [
      "name: John\n",
      "courses: ['Math', 'Science', 'English']\n",
      "phone: 03468714344\n"
     ]
    }
   ],
   "source": [
    "# Iterate over dictionary keys\n",
    "\n",
    "for key in student:\n",
    "    print(f\"{key}: {student[key]}\")"
   ]
  },
  {
   "cell_type": "code",
   "execution_count": null,
   "id": "01d1bef7",
   "metadata": {},
   "outputs": [],
   "source": [
    "# 1)  Make a dictionary of MotorBike and Store Data in it and Then Print it\n",
    "# 2) Make an dictionary of Phonebook were key are the names and values are the phone numbers, then print some \n",
    "#   friend phone numbers"
   ]
  },
  {
   "cell_type": "markdown",
   "id": "8c1aee03",
   "metadata": {},
   "source": [
    "# Object-Oriented Programming (OOP)\n",
    "\n",
    "## Definition\n",
    "OOP is a way of programming where we create blueprints (classes) to build real objects that have both data (attributes) and behaviors (methods).\n",
    "\n",
    "## Simple Analogies\n",
    "- Like a house blueprint (class) → you can build many houses (objects) from it.\n",
    "- Like a car company → the design (class) makes many cars (objects).\n",
    "- Like a cookie cutter (class) → it makes multiple cookies (objects) of the same shape."
   ]
  },
  {
   "cell_type": "code",
   "execution_count": 33,
   "id": "9b75bc97",
   "metadata": {},
   "outputs": [
    {
     "name": "stdout",
     "output_type": "stream",
     "text": [
      "Hi!\n",
      "Hi!\n"
     ]
    }
   ],
   "source": [
    "class Person:\n",
    "    def sayHi(self):\n",
    "        print(\"Hi!\")\n",
    "\n",
    "watchMan=Person()\n",
    "watchMan.sayHi()\n",
    "carDriver=Person()\n",
    "carDriver.sayHi()"
   ]
  },
  {
   "cell_type": "markdown",
   "id": "9348fb6c",
   "metadata": {},
   "source": [
    "## An instance of an object is a specific copy created from a class.\n",
    "👉 Example: If Car is a class, then my_car = Car() is an instance (object) of that class."
   ]
  },
  {
   "cell_type": "markdown",
   "id": "12df9a2a",
   "metadata": {},
   "source": [
    "# Constructors\n",
    "\n",
    "## Definition\n",
    "A constructor is a special method in a class that runs automatically when a new object is created.\n",
    "In Python, the constructor is defined using __init__."
   ]
  },
  {
   "cell_type": "code",
   "execution_count": 30,
   "id": "c92cbbc4",
   "metadata": {},
   "outputs": [],
   "source": [
    "class Person:\n",
    "    def __init__(self,name,age):\n",
    "        self.name = name\n",
    "        self.age = age\n",
    "    def tellMyName(self):\n",
    "        print(f\"My name is {self.name}\")\n",
    "    def tellMyAge(self):\n",
    "        print(f\"My age is {self.age}\")"
   ]
  },
  {
   "cell_type": "code",
   "execution_count": 31,
   "id": "ff33f926",
   "metadata": {},
   "outputs": [
    {
     "name": "stdout",
     "output_type": "stream",
     "text": [
      "My age is 30\n",
      "My name is Ali\n"
     ]
    }
   ],
   "source": [
    "salesPerson= Person(\"Ali\", 30)\n",
    "\n",
    "salesPerson.tellMyAge()\n",
    "salesPerson.tellMyName()"
   ]
  },
  {
   "cell_type": "code",
   "execution_count": 32,
   "metadata": {},
   "outputs": [
    {
     "name": "stdout",
     "output_type": "stream",
     "text": [
      "30\n"
     ]
    }
   ],
   "source": [
    "# Direct Values also \n",
    "print(salesPerson.age)"
   ]
  },
  {
   "cell_type": "code",
   "execution_count": null,
   "id": "ed2d971c",
   "metadata": {},
   "outputs": [],
   "source": []
  },
  {
   "cell_type": "code",
   "execution_count": null,
   "metadata": {},
   "outputs": [],
   "source": []
  },
  {
   "cell_type": "code",
   "execution_count": null,
   "id": "1d4fe145",
   "metadata": {},
   "outputs": [],
   "source": []
  },
  {
   "cell_type": "code",
   "execution_count": null,
   "id": "68670183",
   "metadata": {},
   "outputs": [],
   "source": []
  }
 ],
 "metadata": {
  "kernelspec": {
   "display_name": "Python 3",
   "language": "python",
   "name": "python3"
  },
  "language_info": {
   "codemirror_mode": {
    "name": "ipython",
    "version": 3
   },
   "file_extension": ".py",
   "mimetype": "text/x-python",
   "name": "python",
   "nbconvert_exporter": "python",
   "pygments_lexer": "ipython3",
   "version": "3.13.7"
  }
 },
 "nbformat": 4,
 "nbformat_minor": 5
}
