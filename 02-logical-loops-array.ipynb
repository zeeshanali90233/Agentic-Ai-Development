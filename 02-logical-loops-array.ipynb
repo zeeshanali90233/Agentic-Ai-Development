{
 "cells": [
  {
   "cell_type": "code",
   "execution_count": 3,
   "id": "5c2c40a3",
   "metadata": {},
   "outputs": [
    {
     "name": "stdout",
     "output_type": "stream",
     "text": [
      "Hello to 2nd Class of Agentic AI 2 month Course\n"
     ]
    }
   ],
   "source": [
    "print(\"Hello to 2nd Class of Agentic AI 2 month Course\")"
   ]
  },
  {
   "cell_type": "markdown",
   "id": "1851b05c",
   "metadata": {},
   "source": [
    "# Logical Operations: and, or, not  \n",
    "\n",
    "## Definition  \n",
    "Logical operators combine conditions and return **True or False**.  \n",
    "\n",
    "## Operators & Simple Analogies  \n",
    "\n",
    "- **and** → Both must be True  \n",
    "  - Like: *You can play outside **if it’s sunny AND you finished homework***.  \n",
    "\n",
    "- **or** → At least one must be True  \n",
    "  - Like: *You can have dessert **if there’s cake OR ice cream***.  \n",
    "\n",
    "- **not** → Flips True to False (and False to True)  \n",
    "  - Like: *If the light is **not** on → it’s off*.  \n"
   ]
  },
  {
   "cell_type": "code",
   "execution_count": 4,
   "id": "f153c288",
   "metadata": {},
   "outputs": [
    {
     "name": "stdout",
     "output_type": "stream",
     "text": [
      "You need to finish your homework first.\n"
     ]
    }
   ],
   "source": [
    "is_sunny=True\n",
    "is_hw_finished=False\n",
    "\n",
    "if is_sunny==True and is_hw_finished==True:\n",
    "    print(\"You can go outside and play!\")\n",
    "else:\n",
    "    print(\"You need to finish your homework first.\")\n"
   ]
  },
  {
   "cell_type": "code",
   "execution_count": 5,
   "id": "dddc5226",
   "metadata": {},
   "outputs": [
    {
     "name": "stdout",
     "output_type": "stream",
     "text": [
      "You can have dessert!\n"
     ]
    }
   ],
   "source": [
    "dinner_item=\"cake\"\n",
    "\n",
    "if dinner_item == \"cake\" or dinner_item == \"ice cream\":\n",
    "    print(\"You can have dessert!\")"
   ]
  },
  {
   "cell_type": "code",
   "execution_count": 7,
   "id": "479bccae",
   "metadata": {},
   "outputs": [
    {
     "name": "stdout",
     "output_type": "stream",
     "text": [
      "Good you are saving electricity\n"
     ]
    }
   ],
   "source": [
    "is_light_on=False\n",
    "\n",
    "if not is_light_on:\n",
    "    print(\"Good you are saving electricity\")\n",
    "else:\n",
    "    print(\"The light is on\")\n"
   ]
  },
  {
   "cell_type": "code",
   "execution_count": null,
   "id": "cac8b0fe",
   "metadata": {},
   "outputs": [],
   "source": [
    "# 1) A student is allowed to sit in the exam if attendance is above 75% AND assignment is submitted.\n",
    "# 2) You can go out if it’s Saturday OR Sunday, and NOT raining."
   ]
  },
  {
   "cell_type": "markdown",
   "id": "bddbf70a",
   "metadata": {},
   "source": [
    "# Loops in Python  \n",
    "\n",
    "## Definition  \n",
    "Loops let Python **repeat actions** without writing the same code again and again.  \n",
    "\n",
    "## Types  \n",
    "- **for loop** → repeats a fixed number of times (goes through items in a list, range, etc.)  \n",
    "- **while loop** → repeats as long as a condition is True  \n",
    "\n",
    "## Simple Analogies  \n",
    "\n",
    "- **for loop**:  \n",
    "  - Like **counting chocolates in a box** → check each one until the box is empty.  \n",
    "  - Like **reading pages in a book** → go page by page until the last page.  \n",
    "\n",
    "- **while loop**:  \n",
    "  - Like **playing a game** → keep playing **while you still have lives left**.  \n",
    "  - Like **watering plants** → keep watering **while the soil is dry**.  \n"
   ]
  },
  {
   "cell_type": "code",
   "execution_count": 9,
   "id": "14d5e9d1",
   "metadata": {},
   "outputs": [
    {
     "name": "stdout",
     "output_type": "stream",
     "text": [
      "Hello World 0\n",
      "Hello World 1\n",
      "Hello World 2\n",
      "Hello World 3\n",
      "Hello World 4\n"
     ]
    }
   ],
   "source": [
    "for i in range(5):\n",
    "    print(f\"Hello World {i}\")"
   ]
  },
  {
   "cell_type": "code",
   "execution_count": 10,
   "id": "8626bc97",
   "metadata": {},
   "outputs": [
    {
     "name": "stdout",
     "output_type": "stream",
     "text": [
      "10\n",
      "12\n",
      "14\n",
      "16\n",
      "18\n",
      "20\n",
      "22\n",
      "24\n",
      "26\n",
      "28\n",
      "30\n",
      "32\n",
      "34\n",
      "36\n",
      "38\n",
      "40\n",
      "42\n",
      "44\n",
      "46\n",
      "48\n"
     ]
    }
   ],
   "source": [
    "# Range Based\n",
    "\n",
    "for i in range(10,50,2):\n",
    "    print(i)"
   ]
  },
  {
   "cell_type": "code",
   "execution_count": 12,
   "id": "3a3e10d8",
   "metadata": {},
   "outputs": [
    {
     "name": "stdout",
     "output_type": "stream",
     "text": [
      "<class 'str'>\n",
      "<class 'int'>\n"
     ]
    }
   ],
   "source": [
    "age=\"23\"\n",
    "# We Can't perform any math operation because it is in str\n",
    "print(type(age))\n",
    "\n",
    "# Converting to int Type\n",
    "age = int(age)\n",
    "print(type(age))"
   ]
  },
  {
   "cell_type": "code",
   "execution_count": 14,
   "id": "5733d6e0",
   "metadata": {},
   "outputs": [
    {
     "name": "stdout",
     "output_type": "stream",
     "text": [
      "5\n"
     ]
    }
   ],
   "source": [
    "age=input(\"Enter your age: \")\n",
    "age=int(age)\n",
    "\n",
    "\n",
    "while(age<0):\n",
    "    age=int(input(\"Please enter a valid age: \"))\n",
    "\n",
    "print(age)"
   ]
  },
  {
   "cell_type": "code",
   "execution_count": null,
   "id": "86d2f08f",
   "metadata": {},
   "outputs": [],
   "source": [
    "# 1) Use a for loop to print numbers from 1 to 10.\n",
    "# 2) Use a while loop to keep asking the user for the password until it’s correct."
   ]
  },
  {
   "cell_type": "markdown",
   "id": "c5358165",
   "metadata": {},
   "source": [
    "# Arrays  \n",
    "\n",
    "## Definition  \n",
    "An array is a **collection of items stored in a single variable**, where each item can be accessed by its position (index).  \n",
    "\n",
    "## Simple Analogies  \n",
    "- Like a **row of lockers** → each locker has a number (index) to find what’s inside.  \n",
    "- Like an **egg tray** → each slot holds one egg, and you can pick eggs by their position.  \n",
    "- Like a **train with compartments** → each compartment has passengers (data) and a fixed order.  \n"
   ]
  },
  {
   "cell_type": "code",
   "execution_count": 13,
   "id": "9bb90784",
   "metadata": {},
   "outputs": [
    {
     "name": "stdout",
     "output_type": "stream",
     "text": [
      "Hello ALi\n",
      "Hello John\n",
      "Hello Doe\n"
     ]
    }
   ],
   "source": [
    "names=['ALi','John','Doe']\n",
    "\n",
    "for name in names:\n",
    "    print(f\"Hello {name}\")"
   ]
  },
  {
   "cell_type": "code",
   "execution_count": 14,
   "id": "d420c324",
   "metadata": {},
   "outputs": [
    {
     "name": "stdout",
     "output_type": "stream",
     "text": [
      "['ALi', 'John', 'Doe', 'Khan']\n"
     ]
    }
   ],
   "source": [
    "# Pushing Data to Array \n",
    "\n",
    "names.append(\"Khan\")\n",
    "\n",
    "print(names)"
   ]
  },
  {
   "cell_type": "code",
   "execution_count": 15,
   "metadata": {},
   "outputs": [
    {
     "name": "stdout",
     "output_type": "stream",
     "text": [
      "['ALi', 'Mike', 'John', 'Doe', 'Khan']\n"
     ]
    }
   ],
   "source": [
    "# By Iserting In a Specific Index\n",
    "\n",
    "names.insert(1, \"Mike\") \n",
    "\n",
    "print(names)"
   ]
  },
  {
   "cell_type": "code",
   "execution_count": 16,
   "metadata": {},
   "outputs": [
    {
     "name": "stdout",
     "output_type": "stream",
     "text": [
      "['ALi', 'Mike', 'Doe', 'Khan']\n"
     ]
    }
   ],
   "source": [
    "# Remove First Occurence of Value \n",
    "\n",
    "names.remove(\"John\")\n",
    "\n",
    "print(names)"
   ]
  },
  {
   "cell_type": "code",
   "execution_count": 17,
   "metadata": {},
   "outputs": [
    {
     "name": "stdout",
     "output_type": "stream",
     "text": [
      "['Mike', 'Doe', 'Khan']\n"
     ]
    }
   ],
   "source": [
    "# Remove Element From Index\n",
    "\n",
    "\n",
    "names.pop(0)\n",
    "\n",
    "print(names)\n"
   ]
  },
  {
   "cell_type": "code",
   "execution_count": 18,
   "id": "639ee849",
   "metadata": {},
   "outputs": [
    {
     "name": "stdout",
     "output_type": "stream",
     "text": [
      "0\n"
     ]
    }
   ],
   "source": [
    "# Get Index of First Occurrence\n",
    "print(names.index(\"Mike\"))"
   ]
  },
  {
   "cell_type": "code",
   "execution_count": 19,
   "id": "d79362d0",
   "metadata": {},
   "outputs": [
    {
     "name": "stdout",
     "output_type": "stream",
     "text": [
      "0\n"
     ]
    }
   ],
   "source": [
    "# Count How Many TImes Item Appears\n",
    "\n",
    "print(names.count(\"Ali\"))\n"
   ]
  },
  {
   "cell_type": "code",
   "execution_count": 22,
   "id": "023c0440",
   "metadata": {},
   "outputs": [
    {
     "name": "stdout",
     "output_type": "stream",
     "text": [
      "['Khan', 'Doe', 'Mike']\n"
     ]
    }
   ],
   "source": [
    "# Reverse an array \n",
    "\n",
    "names.reverse()\n",
    "\n",
    "print(names)\n"
   ]
  },
  {
   "cell_type": "code",
   "execution_count": 28,
   "id": "743410b8",
   "metadata": {},
   "outputs": [
    {
     "name": "stdout",
     "output_type": "stream",
     "text": [
      "Doe is in the list.\n"
     ]
    }
   ],
   "source": [
    "\n",
    "# To Check if a item is in array or not\n",
    "\n",
    "names_to_check=\"Doe\"\n",
    "\n",
    "if names_to_check in names:\n",
    "    print(f\"{names_to_check} is in the list.\")"
   ]
  },
  {
   "cell_type": "code",
   "execution_count": null,
   "id": "e656282a",
   "metadata": {},
   "outputs": [
    {
     "name": "stdout",
     "output_type": "stream",
     "text": [
      "Max age: 89\n",
      "Min age: 12\n"
     ]
    }
   ],
   "source": [
    "ages=[23,45,12,67,89,34]\n",
    "\n",
    "max_age=max(ages)\n",
    "min_age=min(ages)\n",
    "\n",
    "print(f\"Max age: {max_age}\")\n",
    "print(f\"Min age: {min_age}\")\n",
    "\n"
   ]
  },
  {
   "cell_type": "code",
   "execution_count": null,
   "id": "81b0d55d",
   "metadata": {},
   "outputs": [],
   "source": [
    "# 1) Create an array (list) of student names and print each name using a loop.\n",
    "# 2) Print the array elements in reverse order.\n",
    "# 3) Print only the even numbers from an array.\n",
    "# 4) Ask the user for a number and check if it exists in the array."
   ]
  },
  {
   "cell_type": "markdown",
   "id": "f3c1f7c3",
   "metadata": {},
   "source": [
    "# Multi Dimensional Array"
   ]
  },
  {
   "cell_type": "code",
   "execution_count": 23,
   "id": "2542da35",
   "metadata": {},
   "outputs": [],
   "source": [
    "# matrix\n",
    "\n",
    "matrix=[\n",
    "    [1,2,3],\n",
    "    [4,5,6],\n",
    "    [7,8,9]\n",
    "]"
   ]
  },
  {
   "cell_type": "code",
   "execution_count": 24,
   "metadata": {},
   "outputs": [
    {
     "name": "stdout",
     "output_type": "stream",
     "text": [
      "4\n"
     ]
    }
   ],
   "source": [
    "print(matrix[1][0])"
   ]
  },
  {
   "cell_type": "code",
   "execution_count": 25,
   "id": "a92e8f9a",
   "metadata": {},
   "outputs": [],
   "source": [
    "matrix_3d=[\n",
    "    [\n",
    "        [1,2,3],\n",
    "        [1,2,3],\n",
    "    ],\n",
    "    [\n",
    "        [4,5,6],\n",
    "        [7,8,9],\n",
    "    ]\n",
    "]"
   ]
  },
  {
   "cell_type": "code",
   "execution_count": 26,
   "metadata": {},
   "outputs": [
    {
     "name": "stdout",
     "output_type": "stream",
     "text": [
      "6\n"
     ]
    }
   ],
   "source": [
    "print(matrix_3d[1][0][2])"
   ]
  },
  {
   "cell_type": "code",
   "execution_count": null,
   "id": "76ad9293",
   "metadata": {},
   "outputs": [],
   "source": []
  }
 ],
 "metadata": {
  "kernelspec": {
   "display_name": "Python 3",
   "language": "python",
   "name": "python3"
  },
  "language_info": {
   "codemirror_mode": {
    "name": "ipython",
    "version": 3
   },
   "file_extension": ".py",
   "mimetype": "text/x-python",
   "name": "python",
   "nbconvert_exporter": "python",
   "pygments_lexer": "ipython3",
   "version": "3.13.7"
  }
 },
 "nbformat": 4,
 "nbformat_minor": 5
}
