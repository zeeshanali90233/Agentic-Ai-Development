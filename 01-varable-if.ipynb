{
 "cells": [
  {
   "cell_type": "code",
   "execution_count": 2,
   "id": "5c2c40a3",
   "metadata": {},
   "outputs": [
    {
     "name": "stdout",
     "output_type": "stream",
     "text": [
      "Hello World\n",
      "Hello Agentic AI 2 month Course\n"
     ]
    }
   ],
   "source": [
    "print(\"Hello World\")\n",
    "print(\"Hello Agentic AI 2 month Course\")"
   ]
  },
  {
   "cell_type": "markdown",
   "id": "1851b05c",
   "metadata": {},
   "source": [
    "# Variables  \n",
    "\n",
    "## Definition  \n",
    "Variables are **named storage locations in memory** that hold data values.  \n",
    "\n",
    "## Simple Analogies  \n",
    "- Like a **container** with a label where you can put things inside (data).  \n",
    "- Like a **locker with a number** where you can store and retrieve items.  \n",
    "- Like a **mailbox with your name** where messages (data) can be placed and later read.  \n"
   ]
  },
  {
   "cell_type": "code",
   "execution_count": null,
   "id": "f153c288",
   "metadata": {},
   "outputs": [
    {
     "name": "stdout",
     "output_type": "stream",
     "text": [
      "Zeeshan Ali\n"
     ]
    }
   ],
   "source": [
    "# NAME=VALUE\n",
    "\n",
    "\n",
    "name=\"Zeeshan Ali\"\n",
    "\n",
    "print(name)"
   ]
  },
  {
   "cell_type": "code",
   "execution_count": 5,
   "id": "dddc5226",
   "metadata": {},
   "outputs": [
    {
     "name": "stdout",
     "output_type": "stream",
     "text": [
      "True\n",
      "5\n"
     ]
    }
   ],
   "source": [
    "# Value can be of different types called = Data Type\n",
    "\n",
    "\n",
    "is_raining=True\n",
    "num_of_laptops=5\n",
    "\n",
    "\n",
    "print(is_raining)\n",
    "print(num_of_laptops)\n"
   ]
  },
  {
   "cell_type": "code",
   "execution_count": 2,
   "id": "68256db7",
   "metadata": {},
   "outputs": [
    {
     "name": "stdout",
     "output_type": "stream",
     "text": [
      "<class 'int'>\n",
      "<class 'str'>\n"
     ]
    }
   ],
   "source": [
    "# TType Checking of Variables\n",
    "\n",
    "age = 25\n",
    "name=\"Zeeshan\"\n",
    "print(type(age))\n",
    "print(type(name))"
   ]
  },
  {
   "cell_type": "markdown",
   "id": "bddbf70a",
   "metadata": {},
   "source": [
    "# Naming Rules of a Variable in Python  \n",
    "\n",
    "## Rules  \n",
    "1. Must begin with a **letter (a–z, A–Z)** or **underscore (_)**\n",
    "2. Cannot start with a **number**  \n",
    "3. Can only contain **letters, numbers, and underscores**  \n",
    "4. **Case-sensitive** (`age`, `Age`, and `AGE` are different)  \n",
    "5. Should not be a **Python keyword** (`if`, `while`, `class`, etc.)  \n",
    "\n",
    "## Simple Analogies  \n",
    "- Like a **username** → must start with a letter, not a number.  \n",
    "- Like a **contact name in your phone** → no duplicate names, otherwise confusion.  \n",
    "- Like a **street name** → can have letters/numbers, but not weird characters like `@` or `#`.  \n",
    "- Like **different people with same-sounding names** but written differently (`Ali`, `ALI`) → Python treats them as different.  \n",
    "\n"
   ]
  },
  {
   "cell_type": "code",
   "execution_count": 6,
   "id": "14d5e9d1",
   "metadata": {},
   "outputs": [
    {
     "name": "stdout",
     "output_type": "stream",
     "text": [
      "23\n",
      "45\n"
     ]
    }
   ],
   "source": [
    "age=23\n",
    "AGE=45\n",
    "# Above Both Variables are different\n",
    "\n",
    "\n",
    "print(age)\n",
    "print(AGE)"
   ]
  },
  {
   "cell_type": "code",
   "execution_count": 10,
   "id": "51749077",
   "metadata": {},
   "outputs": [
    {
     "name": "stdout",
     "output_type": "stream",
     "text": [
      "85\n",
      "100\n",
      "85.0\n"
     ]
    }
   ],
   "source": [
    "obtained_marks=85\n",
    "total_marks=100\n",
    "\n",
    "print(obtained_marks)\n",
    "print(total_marks)\n",
    "\n",
    "obtained_percentage=(obtained_marks/total_marks)*100\n",
    "print(obtained_percentage)\n"
   ]
  },
  {
   "cell_type": "code",
   "execution_count": 13,
   "id": "972403d0",
   "metadata": {},
   "outputs": [
    {
     "name": "stdout",
     "output_type": "stream",
     "text": [
      "101\n",
      "-11\n",
      "2520\n",
      "0.8035714285714286\n"
     ]
    }
   ],
   "source": [
    "a=45\n",
    "b=56\n",
    "\n",
    "print(a+b)\n",
    "print(a-b)\n",
    "print(a*b)\n",
    "print(a/b)"
   ]
  },
  {
   "cell_type": "code",
   "execution_count": null,
   "id": "29a7232c",
   "metadata": {},
   "outputs": [],
   "source": [
    "x=45\n",
    "y=56\n",
    "\n",
    "equation=x+y\n",
    "print(equation)\n",
    "\n",
    "equation=((x+y)/2) * x * y\n",
    "print(equation)"
   ]
  },
  {
   "cell_type": "code",
   "execution_count": 16,
   "id": "a2e42468",
   "metadata": {},
   "outputs": [
    {
     "name": "stdout",
     "output_type": "stream",
     "text": [
      "32\n",
      "2\n"
     ]
    }
   ],
   "source": [
    "# power \n",
    "x=2\n",
    "y=5\n",
    "answer=x**y\n",
    "print(answer)\n",
    "\n",
    "\n",
    "# modulus -- remainder\n",
    "answer=x%y\n",
    "print(answer)"
   ]
  },
  {
   "cell_type": "markdown",
   "id": "3fd67b67",
   "metadata": {},
   "source": [
    "# Conditional Statements in Python  \n",
    "\n",
    "## Definition  \n",
    "Conditional statements let Python **choose what to do** based on a condition (True/False).  \n",
    "\n",
    "## Simple Analogies  \n",
    "- Like **checking weather**:  \n",
    "  - If it’s raining → take an umbrella  \n",
    "  - Else → wear sunglasses  \n",
    "\n",
    "- Like **school exam**:  \n",
    "  - If marks ≥ 50 → pass  \n",
    "  - Else → fail  \n",
    "\n",
    "- Like **home door**:  \n",
    "  - If you have the key → door opens  \n",
    "  - Else → door stays locked  \n"
   ]
  },
  {
   "cell_type": "code",
   "execution_count": 7,
   "id": "5d87b675",
   "metadata": {},
   "outputs": [
    {
     "name": "stdout",
     "output_type": "stream",
     "text": [
      "It's raining\n"
     ]
    }
   ],
   "source": [
    "is_raining=True\n",
    "\n",
    "if is_raining==True:\n",
    "    print(\"It's raining\")"
   ]
  },
  {
   "cell_type": "code",
   "execution_count": 9,
   "id": "22a2a8a6",
   "metadata": {},
   "outputs": [
    {
     "name": "stdout",
     "output_type": "stream",
     "text": [
      "You have passed the exam\n"
     ]
    }
   ],
   "source": [
    "obtained_marks=85\n",
    "total_marks=100\n",
    "obtained_percentage=(obtained_marks/total_marks)*100\n",
    "\n",
    "if obtained_percentage >= 50:\n",
    "    print(\"You have passed the exam\")"
   ]
  },
  {
   "cell_type": "code",
   "execution_count": 17,
   "id": "cc35c745",
   "metadata": {},
   "outputs": [
    {
     "name": "stdout",
     "output_type": "stream",
     "text": [
      "You are not eligible to vote\n"
     ]
    }
   ],
   "source": [
    "age=17\n",
    "\n",
    "if age >= 18:\n",
    "    print(\"You are eligible to vote\")\n",
    "else:\n",
    "    print(\"You are not eligible to vote\")"
   ]
  },
  {
   "cell_type": "code",
   "execution_count": 19,
   "id": "eca560d5",
   "metadata": {},
   "outputs": [
    {
     "name": "stdout",
     "output_type": "stream",
     "text": [
      "You have got B grade\n"
     ]
    }
   ],
   "source": [
    "grade='B'\n",
    "\n",
    "if grade == 'A':\n",
    "    print(\"You have got A grade\")\n",
    "elif grade == 'B':\n",
    "    print(\"You have got B grade\")\n",
    "elif grade == 'C':\n",
    "    print(\"You have got C grade\")\n",
    "else:\n",
    "    print(\"You have got D grade\")"
   ]
  },
  {
   "cell_type": "code",
   "execution_count": 20,
   "id": "a168c0e6",
   "metadata": {},
   "outputs": [
    {
     "name": "stdout",
     "output_type": "stream",
     "text": [
      "Login Successful\n"
     ]
    }
   ],
   "source": [
    "username=\"zeeshanali90233\"\n",
    "password=\"123456\"\n",
    "\n",
    "\n",
    "if username == \"zeeshanali90233\" and password == \"123456\":\n",
    "    print(\"Login Successful\")\n",
    "else: \n",
    "    print(\"Login Failed\")"
   ]
  }
 ],
 "metadata": {
  "kernelspec": {
   "display_name": "Python 3",
   "language": "python",
   "name": "python3"
  },
  "language_info": {
   "codemirror_mode": {
    "name": "ipython",
    "version": 3
   },
   "file_extension": ".py",
   "mimetype": "text/x-python",
   "name": "python",
   "nbconvert_exporter": "python",
   "pygments_lexer": "ipython3",
   "version": "3.13.7"
  }
 },
 "nbformat": 4,
 "nbformat_minor": 5
}
