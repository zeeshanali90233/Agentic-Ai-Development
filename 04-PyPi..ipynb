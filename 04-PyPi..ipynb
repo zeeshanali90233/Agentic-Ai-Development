{
 "cells": [
  {
   "cell_type": "markdown",
   "id": "10393b5e",
   "metadata": {},
   "source": [
    "# PYPI\n",
    "\n",
    "## Definition\n",
    "PyPI (Python Package Index) is the official online repository where Python developers publish and download third-party packages to extend Python’s functionality.\n",
    "\n",
    "## Simple Analogies\n",
    "\n",
    "- Like an App Store → you download apps (packages) to add new features.\n",
    "\n",
    "- Like a library bookshelf → all Python books (packages) are stored in one place.\n",
    "\n",
    "- Like a supermarket → you pick ready-made items instead of making everything from scratch."
   ]
  },
  {
   "cell_type": "code",
   "execution_count": 1,
   "id": "6e05c2ff",
   "metadata": {},
   "outputs": [
    {
     "name": "stdout",
     "output_type": "stream",
     "text": [
      "Requirement already satisfied: spepy in c:\\users\\786\\desktop\\sessions\\agentic ai 2 month skill ustad\\venv\\lib\\site-packages (1.0)\n"
     ]
    }
   ],
   "source": [
    "# Installing Package \n",
    "!pip install spepy"
   ]
  },
  {
   "cell_type": "code",
   "execution_count": 3,
   "id": "a2e95d65",
   "metadata": {},
   "outputs": [],
   "source": [
    "import spepy\n",
    "\n",
    "spepy.speak(\"What is your Brother Name\")"
   ]
  },
  {
   "cell_type": "code",
   "execution_count": 5,
   "id": "10586c46",
   "metadata": {},
   "outputs": [
    {
     "data": {
      "text/plain": [
       "datetime.date(2025, 8, 26)"
      ]
     },
     "execution_count": 5,
     "metadata": {},
     "output_type": "execute_result"
    }
   ],
   "source": [
    "import datetime\n",
    "\n",
    "datetime.datetime.now().date()\n"
   ]
  },
  {
   "cell_type": "code",
   "execution_count": null,
   "id": "c1a4adb3",
   "metadata": {},
   "outputs": [],
   "source": [
    "# Hw: Study about Numpy and Pandas"
   ]
  }
 ],
 "metadata": {
  "kernelspec": {
   "display_name": "venv",
   "language": "python",
   "name": "python3"
  },
  "language_info": {
   "codemirror_mode": {
    "name": "ipython",
    "version": 3
   },
   "file_extension": ".py",
   "mimetype": "text/x-python",
   "name": "python",
   "nbconvert_exporter": "python",
   "pygments_lexer": "ipython3",
   "version": "3.13.7"
  }
 },
 "nbformat": 4,
 "nbformat_minor": 5
}
