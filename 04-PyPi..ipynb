{
 "cells": [
  {
   "cell_type": "markdown",
   "id": "10393b5e",
   "metadata": {},
   "source": [
    "# PYPI\n",
    "\n",
    "## Definition\n",
    "PyPI (Python Package Index) is the official online repository where Python developers publish and download third-party packages to extend Python’s functionality.\n",
    "\n",
    "## Simple Analogies\n",
    "\n",
    "- Like an App Store → you download apps (packages) to add new features.\n",
    "\n",
    "- Like a library bookshelf → all Python books (packages) are stored in one place.\n",
    "\n",
    "- Like a supermarket → you pick ready-made items instead of making everything from scratch."
   ]
  },
  {
   "cell_type": "code",
   "execution_count": 9,
   "id": "6e05c2ff",
   "metadata": {},
   "outputs": [
    {
     "name": "stdout",
     "output_type": "stream",
     "text": [
      "Requirement already satisfied: spepy in c:\\users\\786\\desktop\\sessions\\agentic ai 2 month skill ustad\\venv\\lib\\site-packages (1.0)\n"
     ]
    }
   ],
   "source": [
    "# Installing Package \n",
    "!pip install spepy"
   ]
  },
  {
   "cell_type": "code",
   "execution_count": 10,
   "id": "a2e95d65",
   "metadata": {},
   "outputs": [],
   "source": [
    "import spepy\n",
    "\n",
    "spepy.speak(\"What is your Brother Name\")"
   ]
  },
  {
   "cell_type": "code",
   "execution_count": 13,
   "id": "10586c46",
   "metadata": {},
   "outputs": [
    {
     "data": {
      "text/plain": [
       "8"
      ]
     },
     "execution_count": 13,
     "metadata": {},
     "output_type": "execute_result"
    }
   ],
   "source": [
    "import datetime\n",
    "\n",
    "datetime.datetime.now().month\n"
   ]
  },
  {
   "cell_type": "code",
   "execution_count": 14,
   "id": "10e65301",
   "metadata": {},
   "outputs": [
    {
     "name": "stdout",
     "output_type": "stream",
     "text": [
      "Requirement already satisfied: pyjokes in c:\\users\\786\\desktop\\sessions\\agentic ai 2 month skill ustad\\venv\\lib\\site-packages (0.8.3)\n"
     ]
    }
   ],
   "source": [
    "!pip install pyjokes"
   ]
  },
  {
   "cell_type": "code",
   "execution_count": 16,
   "id": "8eb3dcf5",
   "metadata": {},
   "outputs": [
    {
     "name": "stdout",
     "output_type": "stream",
     "text": [
      "Number of days since I have encountered an array index error: -1.\n"
     ]
    }
   ],
   "source": [
    "import pyjokes\n",
    "\n",
    "print(pyjokes.get_joke())"
   ]
  },
  {
   "cell_type": "code",
   "execution_count": 19,
   "id": "4db7fcf7",
   "metadata": {},
   "outputs": [
    {
     "name": "stdout",
     "output_type": "stream",
     "text": [
      "Two bytes meet. The first byte asks, 'Are you ill?' The second byte replies, 'No, just feeling a bit off.'\n"
     ]
    }
   ],
   "source": [
    "import pyjokes\n",
    "\n",
    "user_input=input(\"Enter your mood: \")\n",
    "\n",
    "if \"joke\" in user_input:\n",
    "    print(pyjokes.get_joke())\n",
    "elif \"exit\" in user_input:\n",
    "    print(\"Goodbye!\")"
   ]
  },
  {
   "cell_type": "code",
   "execution_count": 1,
   "id": "49bf09d8",
   "metadata": {},
   "outputs": [
    {
     "name": "stdout",
     "output_type": "stream",
     "text": [
      "Collecting moment\n",
      "  Using cached moment-0.12.1-py3-none-any.whl.metadata (711 bytes)\n",
      "Collecting dateparser>=0.7 (from moment)\n",
      "  Downloading dateparser-1.2.2-py3-none-any.whl.metadata (29 kB)\n",
      "Collecting pytz>=2018.9 (from moment)\n",
      "  Using cached pytz-2025.2-py2.py3-none-any.whl.metadata (22 kB)\n",
      "Collecting times>=0.7 (from moment)\n",
      "  Downloading times-0.7-py2.py3-none-any.whl.metadata (2.0 kB)\n",
      "Requirement already satisfied: python-dateutil>=2.7.0 in c:\\users\\786\\desktop\\sessions\\agentic ai 2 month skill ustad\\venv\\lib\\site-packages (from dateparser>=0.7->moment) (2.9.0.post0)\n",
      "Collecting regex>=2024.9.11 (from dateparser>=0.7->moment)\n",
      "  Downloading regex-2025.8.29-cp313-cp313-win_amd64.whl.metadata (41 kB)\n",
      "Collecting tzlocal>=0.2 (from dateparser>=0.7->moment)\n",
      "  Using cached tzlocal-5.3.1-py3-none-any.whl.metadata (7.6 kB)\n",
      "Requirement already satisfied: six>=1.5 in c:\\users\\786\\desktop\\sessions\\agentic ai 2 month skill ustad\\venv\\lib\\site-packages (from python-dateutil>=2.7.0->dateparser>=0.7->moment) (1.17.0)\n",
      "Collecting arrow (from times>=0.7->moment)\n",
      "  Using cached arrow-1.3.0-py3-none-any.whl.metadata (7.5 kB)\n",
      "Collecting tzdata (from tzlocal>=0.2->dateparser>=0.7->moment)\n",
      "  Using cached tzdata-2025.2-py2.py3-none-any.whl.metadata (1.4 kB)\n",
      "Collecting types-python-dateutil>=2.8.10 (from arrow->times>=0.7->moment)\n",
      "  Downloading types_python_dateutil-2.9.0.20250822-py3-none-any.whl.metadata (1.8 kB)\n",
      "Downloading moment-0.12.1-py3-none-any.whl (6.4 kB)\n",
      "Downloading dateparser-1.2.2-py3-none-any.whl (315 kB)\n",
      "Using cached pytz-2025.2-py2.py3-none-any.whl (509 kB)\n",
      "Downloading regex-2025.8.29-cp313-cp313-win_amd64.whl (275 kB)\n",
      "Downloading times-0.7-py2.py3-none-any.whl (3.8 kB)\n",
      "Using cached tzlocal-5.3.1-py3-none-any.whl (18 kB)\n",
      "Downloading arrow-1.3.0-py3-none-any.whl (66 kB)\n",
      "Downloading types_python_dateutil-2.9.0.20250822-py3-none-any.whl (17 kB)\n",
      "Using cached tzdata-2025.2-py2.py3-none-any.whl (347 kB)\n",
      "Installing collected packages: pytz, tzdata, types-python-dateutil, regex, tzlocal, arrow, times, dateparser, moment\n",
      "\n",
      "   ---------------------------------------- 0/9 [pytz]\n",
      "   ---------------------------------------- 0/9 [pytz]\n",
      "   ---------------------------------------- 0/9 [pytz]\n",
      "   ---------------------------------------- 0/9 [pytz]\n",
      "   ---------------------------------------- 0/9 [pytz]\n",
      "   ---------------------------------------- 0/9 [pytz]\n",
      "   ---------------------------------------- 0/9 [pytz]\n",
      "   ---------------------------------------- 0/9 [pytz]\n",
      "   ---------------------------------------- 0/9 [pytz]\n",
      "   ---- ----------------------------------- 1/9 [tzdata]\n",
      "   ---- ----------------------------------- 1/9 [tzdata]\n",
      "   ---- ----------------------------------- 1/9 [tzdata]\n",
      "   ---- ----------------------------------- 1/9 [tzdata]\n",
      "   ---- ----------------------------------- 1/9 [tzdata]\n",
      "   ---- ----------------------------------- 1/9 [tzdata]\n",
      "   ---- ----------------------------------- 1/9 [tzdata]\n",
      "   ------------- -------------------------- 3/9 [regex]\n",
      "   ------------- -------------------------- 3/9 [regex]\n",
      "   ------------- -------------------------- 3/9 [regex]\n",
      "   ------------- -------------------------- 3/9 [regex]\n",
      "   ----------------- ---------------------- 4/9 [tzlocal]\n",
      "   ---------------------- ----------------- 5/9 [arrow]\n",
      "   ---------------------- ----------------- 5/9 [arrow]\n",
      "   ---------------------- ----------------- 5/9 [arrow]\n",
      "   ---------------------- ----------------- 5/9 [arrow]\n",
      "   -------------------------- ------------- 6/9 [times]\n",
      "   ------------------------------- -------- 7/9 [dateparser]\n",
      "   ------------------------------- -------- 7/9 [dateparser]\n",
      "   ------------------------------- -------- 7/9 [dateparser]\n",
      "   ------------------------------- -------- 7/9 [dateparser]\n",
      "   ------------------------------- -------- 7/9 [dateparser]\n",
      "   ------------------------------- -------- 7/9 [dateparser]\n",
      "   ------------------------------- -------- 7/9 [dateparser]\n",
      "   ------------------------------- -------- 7/9 [dateparser]\n",
      "   ------------------------------- -------- 7/9 [dateparser]\n",
      "   ------------------------------- -------- 7/9 [dateparser]\n",
      "   ------------------------------- -------- 7/9 [dateparser]\n",
      "   ------------------------------- -------- 7/9 [dateparser]\n",
      "   ------------------------------- -------- 7/9 [dateparser]\n",
      "   ------------------------------- -------- 7/9 [dateparser]\n",
      "   ------------------------------- -------- 7/9 [dateparser]\n",
      "   ------------------------------- -------- 7/9 [dateparser]\n",
      "   ------------------------------- -------- 7/9 [dateparser]\n",
      "   ------------------------------- -------- 7/9 [dateparser]\n",
      "   ------------------------------- -------- 7/9 [dateparser]\n",
      "   ------------------------------- -------- 7/9 [dateparser]\n",
      "   ------------------------------- -------- 7/9 [dateparser]\n",
      "   ------------------------------- -------- 7/9 [dateparser]\n",
      "   ------------------------------- -------- 7/9 [dateparser]\n",
      "   ------------------------------- -------- 7/9 [dateparser]\n",
      "   ------------------------------- -------- 7/9 [dateparser]\n",
      "   ------------------------------- -------- 7/9 [dateparser]\n",
      "   ------------------------------- -------- 7/9 [dateparser]\n",
      "   ------------------------------- -------- 7/9 [dateparser]\n",
      "   ------------------------------- -------- 7/9 [dateparser]\n",
      "   ------------------------------- -------- 7/9 [dateparser]\n",
      "   ------------------------------- -------- 7/9 [dateparser]\n",
      "   ------------------------------- -------- 7/9 [dateparser]\n",
      "   ------------------------------- -------- 7/9 [dateparser]\n",
      "   ------------------------------- -------- 7/9 [dateparser]\n",
      "   ------------------------------- -------- 7/9 [dateparser]\n",
      "   ------------------------------- -------- 7/9 [dateparser]\n",
      "   ------------------------------- -------- 7/9 [dateparser]\n",
      "   ------------------------------- -------- 7/9 [dateparser]\n",
      "   ------------------------------- -------- 7/9 [dateparser]\n",
      "   ------------------------------- -------- 7/9 [dateparser]\n",
      "   ------------------------------- -------- 7/9 [dateparser]\n",
      "   ------------------------------- -------- 7/9 [dateparser]\n",
      "   ------------------------------- -------- 7/9 [dateparser]\n",
      "   ------------------------------- -------- 7/9 [dateparser]\n",
      "   ------------------------------- -------- 7/9 [dateparser]\n",
      "   ------------------------------- -------- 7/9 [dateparser]\n",
      "   ------------------------------- -------- 7/9 [dateparser]\n",
      "   ------------------------------- -------- 7/9 [dateparser]\n",
      "   ------------------------------- -------- 7/9 [dateparser]\n",
      "   ------------------------------- -------- 7/9 [dateparser]\n",
      "   ------------------------------- -------- 7/9 [dateparser]\n",
      "   ------------------------------- -------- 7/9 [dateparser]\n",
      "   ------------------------------- -------- 7/9 [dateparser]\n",
      "   ------------------------------- -------- 7/9 [dateparser]\n",
      "   ----------------------------------- ---- 8/9 [moment]\n",
      "   ---------------------------------------- 9/9 [moment]\n",
      "\n",
      "Successfully installed arrow-1.3.0 dateparser-1.2.2 moment-0.12.1 pytz-2025.2 regex-2025.8.29 times-0.7 types-python-dateutil-2.9.0.20250822 tzdata-2025.2 tzlocal-5.3.1\n"
     ]
    }
   ],
   "source": [
    "!pip install moment"
   ]
  },
  {
   "cell_type": "code",
   "execution_count": null,
   "id": "cb3ed2e3",
   "metadata": {},
   "outputs": [
    {
     "name": "stdout",
     "output_type": "stream",
     "text": [
      "2025-08-31T10:52:31+05.00\n"
     ]
    }
   ],
   "source": [
    "import moment\n",
    "print(moment.now())"
   ]
  },
  {
   "cell_type": "code",
   "execution_count": 6,
   "id": "7ea34cdc",
   "metadata": {},
   "outputs": [
    {
     "data": {
      "text/plain": [
       "datetime.datetime(2025, 8, 31, 1, 53, 14, 587279, tzinfo=tzfile('America/New_York'))"
      ]
     },
     "execution_count": 6,
     "metadata": {},
     "output_type": "execute_result"
    }
   ],
   "source": [
    "# Create a moment from a string\n",
    "date=moment.date(\"12-18-2012\")\n",
    "\n",
    "\n",
    "moment.utcnow().timezone(\"US/Eastern\").date"
   ]
  },
  {
   "cell_type": "code",
   "execution_count": null,
   "id": "637d4bee",
   "metadata": {},
   "outputs": [],
   "source": []
  },
  {
   "cell_type": "code",
   "execution_count": null,
   "id": "c1a4adb3",
   "metadata": {},
   "outputs": [],
   "source": [
    "# Hw: Study about Numpy and Pandas"
   ]
  }
 ],
 "metadata": {
  "kernelspec": {
   "display_name": "venv",
   "language": "python",
   "name": "python3"
  },
  "language_info": {
   "codemirror_mode": {
    "name": "ipython",
    "version": 3
   },
   "file_extension": ".py",
   "mimetype": "text/x-python",
   "name": "python",
   "nbconvert_exporter": "python",
   "pygments_lexer": "ipython3",
   "version": "3.13.7"
  }
 },
 "nbformat": 4,
 "nbformat_minor": 5
}
