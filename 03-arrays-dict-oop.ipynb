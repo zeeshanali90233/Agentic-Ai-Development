{
 "cells": [
  {
   "cell_type": "markdown",
   "id": "03b94707",
   "metadata": {},
   "source": [
    "# Arrays  \n",
    "\n",
    "## Definition  \n",
    "An array is a **collection of items stored in a single variable**, where each item can be accessed by its position (index).  \n",
    "\n",
    "## Simple Analogies  \n",
    "- Like a **row of lockers** → each locker has a number (index) to find what’s inside.  \n",
    "- Like an **egg tray** → each slot holds one egg, and you can pick eggs by their position.  \n",
    "- Like a **train with compartments** → each compartment has passengers (data) and a fixed order.  \n"
   ]
  },
  {
   "cell_type": "code",
   "execution_count": null,
   "id": "a72f47bd",
   "metadata": {},
   "outputs": [],
   "source": [
    "# Making 1000 Variables for user\n",
    "name1=\"Zeeshan Ali\"\n",
    "name2=\"Ali\"\n",
    "name3=\"Asad\"\n",
    "name4=\"Ahmed\"\n",
    "\n",
    "# Memory Full\n",
    "# 1000, Not Management\n",
    "# \n",
    "# .....\n",
    "# BAD APPROACH AND NOT MANAGEABLE\n"
   ]
  },
  {
   "cell_type": "code",
   "execution_count": 8,
   "id": "6616940c",
   "metadata": {},
   "outputs": [
    {
     "name": "stdout",
     "output_type": "stream",
     "text": [
      "['ALi', 'John', 'Doe']\n",
      "ALi\n",
      "John\n",
      "Doe\n"
     ]
    },
    {
     "ename": "IndexError",
     "evalue": "list index out of range",
     "output_type": "error",
     "traceback": [
      "\u001b[31m---------------------------------------------------------------------------\u001b[39m",
      "\u001b[31mIndexError\u001b[39m                                Traceback (most recent call last)",
      "\u001b[36mCell\u001b[39m\u001b[36m \u001b[39m\u001b[32mIn[8]\u001b[39m\u001b[32m, line 7\u001b[39m\n\u001b[32m      5\u001b[39m \u001b[38;5;28mprint\u001b[39m(names[\u001b[32m1\u001b[39m])\n\u001b[32m      6\u001b[39m \u001b[38;5;28mprint\u001b[39m(names[\u001b[32m2\u001b[39m])\n\u001b[32m----> \u001b[39m\u001b[32m7\u001b[39m \u001b[38;5;28mprint\u001b[39m(\u001b[43mnames\u001b[49m\u001b[43m[\u001b[49m\u001b[32;43m3\u001b[39;49m\u001b[43m]\u001b[49m)\n",
      "\u001b[31mIndexError\u001b[39m: list index out of range"
     ]
    }
   ],
   "source": [
    "names=['ALi','John','Doe']\n",
    "# Index no. always start from zero\n",
    "print(names)\n",
    "print(names[0])\n",
    "print(names[1])\n",
    "print(names[2])\n",
    "print(names[3])"
   ]
  },
  {
   "cell_type": "code",
   "execution_count": 9,
   "id": "a192aa95",
   "metadata": {},
   "outputs": [
    {
     "name": "stdout",
     "output_type": "stream",
     "text": [
      "['ALi', 'John', 'Doe', 'Khan']\n"
     ]
    }
   ],
   "source": [
    "# Pushing Data to Array \n",
    "\n",
    "names.append(\"Khan\")\n",
    "\n",
    "print(names)"
   ]
  },
  {
   "cell_type": "code",
   "execution_count": 10,
   "id": "668e6902",
   "metadata": {},
   "outputs": [
    {
     "name": "stdout",
     "output_type": "stream",
     "text": [
      "['ALi', 'Mike', 'John', 'Doe', 'Khan']\n"
     ]
    }
   ],
   "source": [
    "# By Iserting In a Specific Index\n",
    "\n",
    "names.insert(1, \"Mike\") \n",
    "\n",
    "print(names)"
   ]
  },
  {
   "cell_type": "code",
   "execution_count": 11,
   "id": "79875c37",
   "metadata": {},
   "outputs": [
    {
     "name": "stdout",
     "output_type": "stream",
     "text": [
      "['ALi', 'Mike', 'Doe', 'Khan']\n"
     ]
    }
   ],
   "source": [
    "# Remove First Occurence of Value \n",
    "\n",
    "names.remove(\"John\")\n",
    "\n",
    "print(names)"
   ]
  },
  {
   "cell_type": "code",
   "execution_count": null,
   "id": "407e6fc2",
   "metadata": {},
   "outputs": [
    {
     "name": "stdout",
     "output_type": "stream",
     "text": [
      "['Mike', 'Doe', 'Khan']\n"
     ]
    }
   ],
   "source": [
    "# Remove Element From Index\n",
    "names.pop(0)\n",
    "\n",
    "print(names)\n"
   ]
  },
  {
   "cell_type": "code",
   "execution_count": 15,
   "metadata": {},
   "outputs": [
    {
     "name": "stdout",
     "output_type": "stream",
     "text": [
      "1\n"
     ]
    }
   ],
   "source": [
    "# Get Index of First Occurrence\n",
    "print(names.index(\"Doe\"))"
   ]
  },
  {
   "cell_type": "code",
   "execution_count": null,
   "id": "8b11368f",
   "metadata": {},
   "outputs": [],
   "source": []
  },
  {
   "cell_type": "code",
   "execution_count": null,
   "id": "30a2c315",
   "metadata": {},
   "outputs": [
    {
     "name": "stdout",
     "output_type": "stream",
     "text": [
      "['akli', 'ffff', 'gggg', 'eee', 'tttr']\n"
     ]
    }
   ],
   "source": [
    "# Take 5 Names from User using Loop and append it in array\n",
    "# and afterwards print the elements in array\n",
    "\n",
    "\n",
    "names=[]\n",
    "\n",
    "for i in range(5):\n",
    "    name = input(\"Enter name: \")\n",
    "    names.append(name)\n",
    "print(names)\n"
   ]
  },
  {
   "cell_type": "code",
   "execution_count": 20,
   "id": "00becfcc",
   "metadata": {},
   "outputs": [
    {
     "data": {
      "text/plain": [
       "2"
      ]
     },
     "execution_count": 20,
     "metadata": {},
     "output_type": "execute_result"
    }
   ],
   "source": [
    "age=[4,5,6,6,7,8,9]\n",
    "\n",
    "sample_array=[\"Aass\",34,4,55,6,True ,False]\n",
    "\n",
    "\n",
    "age.count(6) # How many times 6 is present in array"
   ]
  },
  {
   "cell_type": "code",
   "execution_count": 7,
   "metadata": {},
   "outputs": [
    {
     "name": "stdout",
     "output_type": "stream",
     "text": [
      "0\n"
     ]
    }
   ],
   "source": [
    "# Count How Many TImes Item Appears\n",
    "\n",
    "print(names.count(\"Ali\"))\n"
   ]
  },
  {
   "cell_type": "code",
   "execution_count": 22,
   "id": "d05eda4b",
   "metadata": {},
   "outputs": [
    {
     "name": "stdout",
     "output_type": "stream",
     "text": [
      "['Doe', 'John', 'ALi']\n",
      "[8, 7, 6, 5, 4]\n"
     ]
    }
   ],
   "source": [
    "# Reverse an array \n",
    "\n",
    "names=[\"ALi\",\"John\",\"Doe\"]\n",
    "age=[4,5,6,7,8]\n",
    "names.reverse()\n",
    "age.reverse()\n",
    "print(names)\n",
    "print(age)\n"
   ]
  },
  {
   "cell_type": "code",
   "execution_count": 30,
   "id": "b0d9aa4b",
   "metadata": {},
   "outputs": [
    {
     "name": "stdout",
     "output_type": "stream",
     "text": [
      "Yes User is in Students \n"
     ]
    }
   ],
   "source": [
    "students=[\"Ali\",\"John\",\"Doe\"]\n",
    "employees=[\"Kashif\",\"Hassan\",\"zeeshan\"]\n",
    "\n",
    "# Ask user his name\n",
    "\n",
    "user_name=input(\"Enter your name: \")\n",
    "\n",
    "if user_name in students:\n",
    "    print(\"Yes User is in Students \")\n",
    "elif user_name in employees:\n",
    "    print(\"Yes User is in Employees \")\n",
    "else:\n",
    "    print(\"User is not found in any list.\")\n"
   ]
  },
  {
   "cell_type": "code",
   "execution_count": null,
   "metadata": {},
   "outputs": [],
   "source": []
  },
  {
   "cell_type": "code",
   "execution_count": 31,
   "id": "f61968f2",
   "metadata": {},
   "outputs": [
    {
     "name": "stdout",
     "output_type": "stream",
     "text": [
      "Doe is in the list.\n"
     ]
    }
   ],
   "source": [
    "\n",
    "# To Check if a item is in array or not\n",
    "\n",
    "names_to_check=\"Doe\"\n",
    "\n",
    "if names_to_check in names:\n",
    "    print(f\"{names_to_check} is in the list.\")"
   ]
  },
  {
   "cell_type": "code",
   "execution_count": 33,
   "id": "5aa85f75",
   "metadata": {},
   "outputs": [
    {
     "name": "stdout",
     "output_type": "stream",
     "text": [
      "Max age: 89\n",
      "Min age: 12\n"
     ]
    }
   ],
   "source": [
    "ages=[23,45,12,67,89,34]\n",
    "\n",
    "max_age=max(ages)\n",
    "min_age=min(ages)\n",
    "\n",
    "print(f\"Max age: {max_age}\")\n",
    "print(f\"Min age: {min_age}\")"
   ]
  },
  {
   "cell_type": "code",
   "execution_count": 1,
   "id": "09d3439f",
   "metadata": {},
   "outputs": [
    {
     "name": "stdout",
     "output_type": "stream",
     "text": [
      "John Found in Array \n"
     ]
    }
   ],
   "source": [
    "user_names=[\"Ali\",\"John\",\"Doe\",\"Mike\"]\n",
    "\n",
    "\n",
    "name=input(\"Enter your name: \")\n",
    "\n",
    "if name in user_names:\n",
    "    print(f\"{name} Found in Array \")\n",
    "else:\n",
    "    print(\"User not found.\")    \n"
   ]
  },
  {
   "cell_type": "code",
   "execution_count": null,
   "id": "784a78e6",
   "metadata": {},
   "outputs": [],
   "source": [
    "# 1) Create an array (list) of student names and print each name using a loop.\n",
    "# 2) Print the array elements in reverse order.\n",
    "# 3) Print only the even numbers from an array.\n",
    "# 4) Ask the user for a number and check if it exists in the array.\n"
   ]
  },
  {
   "cell_type": "markdown",
   "id": "dd666814",
   "metadata": {},
   "source": [
    "# Multi Dimensional Array"
   ]
  },
  {
   "cell_type": "code",
   "execution_count": 37,
   "id": "6b9a9e65",
   "metadata": {},
   "outputs": [
    {
     "name": "stdout",
     "output_type": "stream",
     "text": [
      "6\n"
     ]
    }
   ],
   "source": [
    "# matrix\n",
    "# 2d array  \n",
    "matrix=[\n",
    "    [1,2,3],\n",
    "    [4,5,6],\n",
    "    [7,8,9]\n",
    "]\n",
    "\n",
    "print(matrix[1][2])"
   ]
  },
  {
   "cell_type": "code",
   "execution_count": 39,
   "id": "7efe77b2",
   "metadata": {},
   "outputs": [],
   "source": [
    "matrix_3d=[\n",
    "    [\n",
    "        [1,2,3],\n",
    "        [1,2,3],\n",
    "    ],\n",
    "    [\n",
    "        [4,5,6],\n",
    "        [7,8,9],\n",
    "    ]\n",
    "]"
   ]
  },
  {
   "cell_type": "code",
   "execution_count": 41,
   "metadata": {},
   "outputs": [
    {
     "name": "stdout",
     "output_type": "stream",
     "text": [
      "6\n",
      "[4, 10, 5, 6]\n"
     ]
    }
   ],
   "source": [
    "print(matrix_3d[1][0][2])\n",
    "\n",
    "age=[4,5,5,6]\n",
    "\n",
    "age[1]=10\n",
    "\n",
    "print(age)"
   ]
  },
  {
   "cell_type": "markdown",
   "id": "da4ad68f",
   "metadata": {},
   "source": [
    "# Tuple\n",
    "\n",
    "## Definition\n",
    "A tuple is an ordered collection of items that is immutable (cannot be changed after creation). Items can be of different data types and are indexed by position.\n",
    "\n",
    "## Simple Analogies\n",
    "\n",
    "- Like a list of coordinates → (x, y) values stay fixed.\n",
    "\n",
    "- Like your date of birth → once set, it never changes.\n",
    "\n",
    "- Like a fixed menu combo → items are chosen and stay in the same order.\n",
    "\n",
    "- Want me to also create this same structured format for List and Set so you’ll have the full Python collection family side by side?"
   ]
  },
  {
   "cell_type": "code",
   "execution_count": 42,
   "id": "5aa390a5",
   "metadata": {},
   "outputs": [
    {
     "name": "stdout",
     "output_type": "stream",
     "text": [
      "(1, 2, 3)\n"
     ]
    }
   ],
   "source": [
    "# Creating a tuple\n",
    "numbers = (1, 2, 3)\n",
    "print(numbers)  "
   ]
  },
  {
   "cell_type": "code",
   "execution_count": 43,
   "metadata": {},
   "outputs": [
    {
     "name": "stdout",
     "output_type": "stream",
     "text": [
      "Alice\n",
      "25\n"
     ]
    }
   ],
   "source": [
    "# Mixed data types\n",
    "person = (\"Alice\", 25, \"Engineer\")\n",
    "print(person[0])       # Alice\n",
    "print(person[1])  "
   ]
  },
  {
   "cell_type": "code",
   "execution_count": 44,
   "id": "a5bdbeca",
   "metadata": {},
   "outputs": [
    {
     "name": "stdout",
     "output_type": "stream",
     "text": [
      "(30, 40)\n"
     ]
    },
    {
     "ename": "TypeError",
     "evalue": "'tuple' object does not support item assignment",
     "output_type": "error",
     "traceback": [
      "\u001b[31m---------------------------------------------------------------------------\u001b[39m",
      "\u001b[31mTypeError\u001b[39m                                 Traceback (most recent call last)",
      "\u001b[36mCell\u001b[39m\u001b[36m \u001b[39m\u001b[32mIn[44]\u001b[39m\u001b[32m, line 6\u001b[39m\n\u001b[32m      3\u001b[39m \u001b[38;5;28mprint\u001b[39m(coordinates[\u001b[32m1\u001b[39m])  \u001b[38;5;66;03m# (30, 40)\u001b[39;00m\n\u001b[32m      5\u001b[39m \u001b[38;5;66;03m# Immutable nature\u001b[39;00m\n\u001b[32m----> \u001b[39m\u001b[32m6\u001b[39m \u001b[43mperson\u001b[49m\u001b[43m[\u001b[49m\u001b[32;43m1\u001b[39;49m\u001b[43m]\u001b[49m = \u001b[32m26\u001b[39m  \u001b[38;5;66;03m# ❌ Error: tuples cannot be modified\u001b[39;00m\n",
      "\u001b[31mTypeError\u001b[39m: 'tuple' object does not support item assignment"
     ]
    }
   ],
   "source": [
    "# Nested tuple\n",
    "coordinates = ((10, 20), (30, 40))\n",
    "print(coordinates[1])  # (30, 40)\n",
    "\n",
    "# Immutable nature\n",
    "person[1] = 26  # ❌ Error: tuples cannot be modified"
   ]
  },
  {
   "cell_type": "markdown",
   "id": "2f10a831",
   "metadata": {},
   "source": [
    "# Dictionary\n",
    "## Definition\n",
    "A dictionary is a collection of key–value pairs, where each key is unique and is used to access its corresponding value.\n",
    "\n",
    "## Simple Analogies\n",
    "- Like a real dictionary → a word (key) gives its meaning (value).\n",
    "- Like a contacts list in your phone → a name (key) gives a phone number (value).\n",
    "- Like a student ID card → ID number (key) points to student details (value)."
   ]
  },
  {
   "cell_type": "code",
   "execution_count": 45,
   "id": "331e8f2b",
   "metadata": {},
   "outputs": [],
   "source": [
    "student={\n",
    "    'name': 'John',\n",
    "    'age': 21,\n",
    "    'courses': ['Math', 'Science', 'English']\n",
    "}"
   ]
  },
  {
   "cell_type": "code",
   "execution_count": 47,
   "metadata": {},
   "outputs": [
    {
     "name": "stdout",
     "output_type": "stream",
     "text": [
      "{'name': 'John', 'age': 21, 'courses': ['Math', 'Science', 'English']}\n",
      "John\n",
      "21\n",
      "['Math', 'Science', 'English']\n"
     ]
    }
   ],
   "source": [
    "print(student)\n",
    "print(student['name'])\n",
    "print(student['age'])\n",
    "print(student['courses'])"
   ]
  },
  {
   "cell_type": "code",
   "execution_count": 48,
   "id": "d8ebeac9",
   "metadata": {},
   "outputs": [
    {
     "name": "stdout",
     "output_type": "stream",
     "text": [
      "{'name': 'John', 'age': 21, 'courses': ['Math', 'Science', 'English'], 'phone': '03468714344'}\n"
     ]
    }
   ],
   "source": [
    "# Adding Data to Dictionary \n",
    "\n",
    "student['phone'] = '03468714344'\n",
    "print(student)"
   ]
  },
  {
   "cell_type": "code",
   "execution_count": 60,
   "id": "ed71c4b9",
   "metadata": {},
   "outputs": [
    {
     "name": "stdout",
     "output_type": "stream",
     "text": [
      "{'Camry', 'Alice', 2020, 'Toyota', 'Blue'}\n"
     ]
    }
   ],
   "source": [
    "my_car={\n",
    "    \"name\":\"Toyota\",\n",
    "    \"model\":\"Camry\",\n",
    "    \"year\":2020,\n",
    "    \"color\":\"Blue\",\n",
    "    \"owner\":\"Alice\"\n",
    "}\n",
    "\n",
    "my_car_Set={\n",
    "    \"Toyota\",\n",
    "    \"Camry\",\n",
    "    \"Camry\",\n",
    "    2020,\n",
    "    \"Blue\",\n",
    "    \"Alice\"\n",
    "}\n",
    "\n",
    "print(my_car_Set)"
   ]
  },
  {
   "cell_type": "code",
   "execution_count": 53,
   "metadata": {},
   "outputs": [
    {
     "data": {
      "text/plain": [
       "'Blue'"
      ]
     },
     "execution_count": 53,
     "metadata": {},
     "output_type": "execute_result"
    }
   ],
   "source": [
    "my_car['color']\n"
   ]
  },
  {
   "cell_type": "code",
   "execution_count": 54,
   "metadata": {},
   "outputs": [],
   "source": [
    "# Removing Item from Array\n",
    "\n",
    "del student['age']"
   ]
  },
  {
   "cell_type": "code",
   "execution_count": 55,
   "metadata": {},
   "outputs": [
    {
     "name": "stdout",
     "output_type": "stream",
     "text": [
      "{'name': 'John', 'courses': ['Math', 'Science', 'English'], 'phone': '03468714344'}\n"
     ]
    }
   ],
   "source": [
    "print(student)"
   ]
  },
  {
   "cell_type": "code",
   "execution_count": 56,
   "metadata": {},
   "outputs": [
    {
     "name": "stdout",
     "output_type": "stream",
     "text": [
      "dict_keys(['name', 'courses', 'phone'])\n",
      "dict_values(['John', ['Math', 'Science', 'English'], '03468714344'])\n",
      "dict_items([('name', 'John'), ('courses', ['Math', 'Science', 'English']), ('phone', '03468714344')])\n"
     ]
    }
   ],
   "source": [
    "print(student.keys())\n",
    "print(student.values())\n",
    "print(student.items())"
   ]
  },
  {
   "cell_type": "code",
   "execution_count": 58,
   "id": "e3c4fd4a",
   "metadata": {},
   "outputs": [
    {
     "name": "stdout",
     "output_type": "stream",
     "text": [
      "name: John\n",
      "courses: ['Math', 'Science', 'English']\n",
      "phone: 03468714344\n"
     ]
    }
   ],
   "source": [
    "# Iterate over dictionary keys\n",
    "\n",
    "for key in student:\n",
    "    print(f\"{key}: {student[key]}\")"
   ]
  },
  {
   "cell_type": "code",
   "execution_count": null,
   "id": "01d1bef7",
   "metadata": {},
   "outputs": [],
   "source": [
    "# 1)  Make a dictionary of MotorBike and Store Data in it and Then Print it\n",
    "# 2) Make an dictionary of Phonebook were key are the names and values are the phone numbers, then print some \n",
    "#   friend phone numbers"
   ]
  },
  {
   "cell_type": "markdown",
   "id": "8c1aee03",
   "metadata": {},
   "source": [
    "# Object-Oriented Programming (OOP)\n",
    "\n",
    "## Definition\n",
    "OOP is a way of programming where we create blueprints (classes) to build real objects that have both data (attributes) and behaviors (methods).\n",
    "\n",
    "## Simple Analogies\n",
    "- Like a house blueprint (class) → you can build many houses (objects) from it.\n",
    "- Like a car company → the design (class) makes many cars (objects).\n",
    "- Like a cookie cutter (class) → it makes multiple cookies (objects) of the same shape."
   ]
  },
  {
   "cell_type": "code",
   "execution_count": null,
   "id": "9b75bc97",
   "metadata": {},
   "outputs": [
    {
     "name": "stdout",
     "output_type": "stream",
     "text": [
      "Hi!\n",
      "Hi!\n"
     ]
    }
   ],
   "source": [
    "class Person:\n",
    "    def sayHi(self):\n",
    "        print(\"Hi!\")\n",
    "\n",
    "# Objects \n",
    "watchMan=Person()\n",
    "# Called Respective Functions\n",
    "watchMan.sayHi()\n",
    "carDriver=Person()\n",
    "carDriver.sayHi()"
   ]
  },
  {
   "cell_type": "markdown",
   "id": "9348fb6c",
   "metadata": {},
   "source": [
    "## An instance of an object is a specific copy created from a class.\n",
    "👉 Example: If Car is a class, then my_car = Car() is an instance (object) of that class."
   ]
  },
  {
   "cell_type": "markdown",
   "id": "12df9a2a",
   "metadata": {},
   "source": [
    "# Constructors\n",
    "\n",
    "## Definition\n",
    "A constructor is a special method in a class that runs automatically when a new object is created.\n",
    "In Python, the constructor is defined using __init__."
   ]
  },
  {
   "cell_type": "code",
   "execution_count": 1,
   "id": "c92cbbc4",
   "metadata": {},
   "outputs": [],
   "source": [
    "# New Blueprint\n",
    "\n",
    "class Person:\n",
    "    def __init__(self,name,age):\n",
    "        self.name = name\n",
    "        self.age = age\n",
    "    def tellMyName(self):\n",
    "        print(f\"My name is {self.name}\")\n",
    "    def tellMyAge(self):\n",
    "        print(f\"My age is {self.age}\")"
   ]
  },
  {
   "cell_type": "code",
   "execution_count": 2,
   "id": "ff33f926",
   "metadata": {},
   "outputs": [
    {
     "name": "stdout",
     "output_type": "stream",
     "text": [
      "My age is 30\n",
      "My name is Ali\n"
     ]
    }
   ],
   "source": [
    "salesPerson= Person(\"Ali\", 30)\n",
    "\n",
    "salesPerson.tellMyAge()\n",
    "salesPerson.tellMyName()"
   ]
  },
  {
   "cell_type": "code",
   "execution_count": 3,
   "metadata": {},
   "outputs": [
    {
     "name": "stdout",
     "output_type": "stream",
     "text": [
      "30\n"
     ]
    }
   ],
   "source": [
    "# Direct Values also \n",
    "print(salesPerson.age)"
   ]
  },
  {
   "cell_type": "code",
   "execution_count": 23,
   "id": "ed2d971c",
   "metadata": {},
   "outputs": [],
   "source": [
    "class Car:\n",
    "    def __init__(self, make, model, year,ownerInfo):\n",
    "        self.make = make\n",
    "        self.model = model\n",
    "        self.year = year\n",
    "        self.fuel=0\n",
    "        self.mileage=0\n",
    "        self.owner=ownerInfo\n",
    "    def fuelUp(self, liters):\n",
    "        self.fuel += liters\n",
    "        print(f\"Filling up {liters} liters of fuel.\")\n",
    "\n",
    "    def getCurrentFuel(self):\n",
    "        return self.fuel\n",
    "    \n",
    "    def getOwnwerInfo(self):\n",
    "        return self.owner\n",
    "\n",
    "    def getCurrentMileage(self):\n",
    "        return self.mileage\n",
    "\n",
    "    def drive(self, distance):\n",
    "        if distance * 0.1 > self.fuel:\n",
    "            print(\"Not enough fuel to drive the distance.\")\n",
    "            return\n",
    "        self.mileage += distance\n",
    "        self.fuel -= distance * 0.1  # Assume fuel consumption is 0.1 liters/km\n",
    "        print(f\"Driving {distance} km.\")\n"
   ]
  },
  {
   "cell_type": "code",
   "execution_count": 24,
   "metadata": {},
   "outputs": [],
   "source": [
    "MyCar=Car(\"Toyota\",\"Corolla\",2020,{\n",
    "    \"name\":\"Zeeshan ALli\"\n",
    "})"
   ]
  },
  {
   "cell_type": "code",
   "execution_count": 25,
   "id": "1d4fe145",
   "metadata": {},
   "outputs": [
    {
     "name": "stdout",
     "output_type": "stream",
     "text": [
      "Filling up 50 liters of fuel.\n"
     ]
    }
   ],
   "source": [
    "MyCar.fuelUp(50)"
   ]
  },
  {
   "cell_type": "code",
   "execution_count": 26,
   "id": "68670183",
   "metadata": {},
   "outputs": [
    {
     "name": "stdout",
     "output_type": "stream",
     "text": [
      "Driving 20 km.\n"
     ]
    }
   ],
   "source": [
    "MyCar.drive(20)"
   ]
  },
  {
   "cell_type": "code",
   "execution_count": 9,
   "id": "1de8ea1c",
   "metadata": {},
   "outputs": [
    {
     "data": {
      "text/plain": [
       "48.0"
      ]
     },
     "execution_count": 9,
     "metadata": {},
     "output_type": "execute_result"
    }
   ],
   "source": [
    "MyCar.getCurrentFuel()"
   ]
  },
  {
   "cell_type": "code",
   "execution_count": 10,
   "id": "a11a0cf7",
   "metadata": {},
   "outputs": [
    {
     "data": {
      "text/plain": [
       "20"
      ]
     },
     "execution_count": 10,
     "metadata": {},
     "output_type": "execute_result"
    }
   ],
   "source": [
    "MyCar.getCurrentMileage()"
   ]
  },
  {
   "cell_type": "code",
   "execution_count": 12,
   "id": "33885253",
   "metadata": {},
   "outputs": [
    {
     "name": "stdout",
     "output_type": "stream",
     "text": [
      "Driving 100 km.\n"
     ]
    }
   ],
   "source": [
    "MyCar.drive(100)"
   ]
  },
  {
   "cell_type": "code",
   "execution_count": 13,
   "id": "6fc8fef6",
   "metadata": {},
   "outputs": [
    {
     "data": {
      "text/plain": [
       "38.0"
      ]
     },
     "execution_count": 13,
     "metadata": {},
     "output_type": "execute_result"
    }
   ],
   "source": [
    "MyCar.getCurrentFuel()"
   ]
  },
  {
   "cell_type": "code",
   "execution_count": 27,
   "id": "48706c75",
   "metadata": {},
   "outputs": [
    {
     "data": {
      "text/plain": [
       "{'name': 'Zeeshan ALli'}"
      ]
     },
     "execution_count": 27,
     "metadata": {},
     "output_type": "execute_result"
    }
   ],
   "source": [
    "MyCar.getOwnwerInfo()"
   ]
  },
  {
   "cell_type": "code",
   "execution_count": 30,
   "id": "a2deab28",
   "metadata": {},
   "outputs": [],
   "source": [
    "HomeCar=Car(\"Toyota\",\"Aqua\",2019,{\n",
    "    \"name\":\"Asad\"\n",
    "})"
   ]
  },
  {
   "cell_type": "code",
   "execution_count": 15,
   "metadata": {},
   "outputs": [
    {
     "data": {
      "text/plain": [
       "0"
      ]
     },
     "execution_count": 15,
     "metadata": {},
     "output_type": "execute_result"
    }
   ],
   "source": [
    "HomeCar.getCurrentFuel()"
   ]
  },
  {
   "cell_type": "code",
   "execution_count": 16,
   "id": "3632acd1",
   "metadata": {},
   "outputs": [
    {
     "name": "stdout",
     "output_type": "stream",
     "text": [
      "Filling up 50 liters of fuel.\n"
     ]
    }
   ],
   "source": [
    "HomeCar.fuelUp(50)"
   ]
  },
  {
   "cell_type": "code",
   "execution_count": null,
   "metadata": {},
   "outputs": [],
   "source": [
    "# Make a Class BluePrint of Bike,"
   ]
  },
  {
   "cell_type": "code",
   "execution_count": 36,
   "id": "f57d5c2c",
   "metadata": {},
   "outputs": [],
   "source": [
    "class Chatbot:\n",
    "    def __init__(self,name,goal):\n",
    "        self.name=name\n",
    "        self.goal=goal\n",
    "    def getName(self):\n",
    "        return self.name\n",
    "    def getGoal(self):\n",
    "        return self.goal\n",
    "    \n",
    "    def getReply(self,query):\n",
    "        return \"I am FIned what about you \"\n"
   ]
  },
  {
   "cell_type": "code",
   "execution_count": 37,
   "metadata": {},
   "outputs": [],
   "source": [
    "CustomerService=Chatbot(\"CSR\",\"Your goal is to convince customers\")"
   ]
  },
  {
   "cell_type": "code",
   "execution_count": 38,
   "id": "d8531f54",
   "metadata": {},
   "outputs": [
    {
     "data": {
      "text/plain": [
       "'CSR'"
      ]
     },
     "execution_count": 38,
     "metadata": {},
     "output_type": "execute_result"
    }
   ],
   "source": [
    "CustomerService.getName()"
   ]
  },
  {
   "cell_type": "code",
   "execution_count": 34,
   "id": "77ccd12d",
   "metadata": {},
   "outputs": [
    {
     "data": {
      "text/plain": [
       "'Your goal is to convince customers'"
      ]
     },
     "execution_count": 34,
     "metadata": {},
     "output_type": "execute_result"
    }
   ],
   "source": [
    "CustomerService.getGoal()"
   ]
  },
  {
   "cell_type": "code",
   "execution_count": 40,
   "id": "7cbb183f",
   "metadata": {},
   "outputs": [
    {
     "data": {
      "text/plain": [
       "'I am FIned what about you '"
      ]
     },
     "execution_count": 40,
     "metadata": {},
     "output_type": "execute_result"
    }
   ],
   "source": [
    "CustomerService.getReply(\"How are you \")\n",
    "CustomerService.getReply(\"How are you \")\n",
    "CustomerService.getReply(\"How are you \")\n",
    "CustomerService.getReply(\"How are you \")"
   ]
  },
  {
   "cell_type": "code",
   "execution_count": null,
   "id": "5d955f41",
   "metadata": {},
   "outputs": [],
   "source": [
    "# 4 Major Concepts\n",
    "# Encapsulation : Encapsulate\n",
    "# Abstration : Hide Main Logic\n",
    "# Inheritance\n",
    "# Polymorphism"
   ]
  }
 ],
 "metadata": {
  "kernelspec": {
   "display_name": "Python 3",
   "language": "python",
   "name": "python3"
  },
  "language_info": {
   "codemirror_mode": {
    "name": "ipython",
    "version": 3
   },
   "file_extension": ".py",
   "mimetype": "text/x-python",
   "name": "python",
   "nbconvert_exporter": "python",
   "pygments_lexer": "ipython3",
   "version": "3.13.7"
  }
 },
 "nbformat": 4,
 "nbformat_minor": 5
}
