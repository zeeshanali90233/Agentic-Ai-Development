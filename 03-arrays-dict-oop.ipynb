{
 "cells": [
  {
   "cell_type": "markdown",
   "id": "03b94707",
   "metadata": {},
   "source": [
    "# Arrays  \n",
    "\n",
    "## Definition  \n",
    "An array is a **collection of items stored in a single variable**, where each item can be accessed by its position (index).  \n",
    "\n",
    "## Simple Analogies  \n",
    "- Like a **row of lockers** → each locker has a number (index) to find what’s inside.  \n",
    "- Like an **egg tray** → each slot holds one egg, and you can pick eggs by their position.  \n",
    "- Like a **train with compartments** → each compartment has passengers (data) and a fixed order.  \n"
   ]
  },
  {
   "cell_type": "code",
   "execution_count": 1,
   "id": "6616940c",
   "metadata": {},
   "outputs": [
    {
     "name": "stdout",
     "output_type": "stream",
     "text": [
      "Hello ALi\n",
      "Hello John\n",
      "Hello Doe\n"
     ]
    }
   ],
   "source": [
    "names=['ALi','John','Doe']\n",
    "\n",
    "for name in names:\n",
    "    print(f\"Hello {name}\")"
   ]
  },
  {
   "cell_type": "code",
   "execution_count": 2,
   "id": "a192aa95",
   "metadata": {},
   "outputs": [
    {
     "name": "stdout",
     "output_type": "stream",
     "text": [
      "['ALi', 'John', 'Doe', 'Khan']\n"
     ]
    }
   ],
   "source": [
    "# Pushing Data to Array \n",
    "\n",
    "names.append(\"Khan\")\n",
    "\n",
    "print(names)"
   ]
  },
  {
   "cell_type": "code",
   "execution_count": 3,
   "id": "668e6902",
   "metadata": {},
   "outputs": [
    {
     "name": "stdout",
     "output_type": "stream",
     "text": [
      "['ALi', 'Mike', 'John', 'Doe', 'Khan']\n"
     ]
    }
   ],
   "source": [
    "# By Iserting In a Specific Index\n",
    "\n",
    "names.insert(1, \"Mike\") \n",
    "\n",
    "print(names)"
   ]
  },
  {
   "cell_type": "code",
   "execution_count": 4,
   "id": "79875c37",
   "metadata": {},
   "outputs": [
    {
     "name": "stdout",
     "output_type": "stream",
     "text": [
      "['ALi', 'Mike', 'Doe', 'Khan']\n"
     ]
    }
   ],
   "source": [
    "# Remove First Occurence of Value \n",
    "\n",
    "names.remove(\"John\")\n",
    "\n",
    "print(names)"
   ]
  },
  {
   "cell_type": "code",
   "execution_count": 5,
   "id": "407e6fc2",
   "metadata": {},
   "outputs": [
    {
     "name": "stdout",
     "output_type": "stream",
     "text": [
      "['Mike', 'Doe', 'Khan']\n"
     ]
    }
   ],
   "source": [
    "# Remove Element From Index\n",
    "\n",
    "\n",
    "names.pop(0)\n",
    "\n",
    "print(names)\n"
   ]
  },
  {
   "cell_type": "code",
   "execution_count": 6,
   "metadata": {},
   "outputs": [
    {
     "name": "stdout",
     "output_type": "stream",
     "text": [
      "0\n"
     ]
    }
   ],
   "source": [
    "# Get Index of First Occurrence\n",
    "print(names.index(\"Mike\"))"
   ]
  },
  {
   "cell_type": "code",
   "execution_count": 7,
   "metadata": {},
   "outputs": [
    {
     "name": "stdout",
     "output_type": "stream",
     "text": [
      "0\n"
     ]
    }
   ],
   "source": [
    "# Count How Many TImes Item Appears\n",
    "\n",
    "print(names.count(\"Ali\"))\n"
   ]
  },
  {
   "cell_type": "code",
   "execution_count": 8,
   "id": "d05eda4b",
   "metadata": {},
   "outputs": [
    {
     "name": "stdout",
     "output_type": "stream",
     "text": [
      "['Khan', 'Doe', 'Mike']\n"
     ]
    }
   ],
   "source": [
    "# Reverse an array \n",
    "\n",
    "names.reverse()\n",
    "\n",
    "print(names)\n"
   ]
  },
  {
   "cell_type": "code",
   "execution_count": 9,
   "id": "f61968f2",
   "metadata": {},
   "outputs": [
    {
     "name": "stdout",
     "output_type": "stream",
     "text": [
      "Doe is in the list.\n"
     ]
    }
   ],
   "source": [
    "\n",
    "# To Check if a item is in array or not\n",
    "\n",
    "names_to_check=\"Doe\"\n",
    "\n",
    "if names_to_check in names:\n",
    "    print(f\"{names_to_check} is in the list.\")"
   ]
  },
  {
   "cell_type": "code",
   "execution_count": 10,
   "id": "5aa85f75",
   "metadata": {},
   "outputs": [
    {
     "name": "stdout",
     "output_type": "stream",
     "text": [
      "Max age: 89\n",
      "Min age: 12\n"
     ]
    }
   ],
   "source": [
    "ages=[23,45,12,67,89,34]\n",
    "\n",
    "max_age=max(ages)\n",
    "min_age=min(ages)\n",
    "\n",
    "print(f\"Max age: {max_age}\")\n",
    "print(f\"Min age: {min_age}\")\n",
    "\n"
   ]
  },
  {
   "cell_type": "code",
   "execution_count": null,
   "id": "784a78e6",
   "metadata": {},
   "outputs": [],
   "source": [
    "# 1) Create an array (list) of student names and print each name using a loop.\n",
    "# 2) Print the array elements in reverse order.\n",
    "# 3) Print only the even numbers from an array.\n",
    "# 4) Ask the user for a number and check if it exists in the array."
   ]
  },
  {
   "cell_type": "markdown",
   "id": "dd666814",
   "metadata": {},
   "source": [
    "# Multi Dimensional Array"
   ]
  },
  {
   "cell_type": "code",
   "execution_count": 13,
   "id": "6b9a9e65",
   "metadata": {},
   "outputs": [
    {
     "name": "stdout",
     "output_type": "stream",
     "text": [
      "4\n"
     ]
    }
   ],
   "source": [
    "# matrix\n",
    "\n",
    "matrix=[\n",
    "    [1,2,3],\n",
    "    [4,5,6],\n",
    "    [7,8,9]\n",
    "]\n",
    "\n",
    "print(matrix[1][0])"
   ]
  },
  {
   "cell_type": "code",
   "execution_count": 14,
   "id": "7efe77b2",
   "metadata": {},
   "outputs": [],
   "source": [
    "matrix_3d=[\n",
    "    [\n",
    "        [1,2,3],\n",
    "        [1,2,3],\n",
    "    ],\n",
    "    [\n",
    "        [4,5,6],\n",
    "        [7,8,9],\n",
    "    ]\n",
    "]"
   ]
  },
  {
   "cell_type": "code",
   "execution_count": 15,
   "metadata": {},
   "outputs": [
    {
     "name": "stdout",
     "output_type": "stream",
     "text": [
      "6\n"
     ]
    }
   ],
   "source": [
    "print(matrix_3d[1][0][2])"
   ]
  },
  {
   "cell_type": "markdown",
   "id": "2f10a831",
   "metadata": {},
   "source": [
    "# Dictionary\n",
    "## Definition\n",
    "A dictionary is a collection of key–value pairs, where each key is unique and is used to access its corresponding value.\n",
    "\n",
    "## Simple Analogies\n",
    "- Like a real dictionary → a word (key) gives its meaning (value).\n",
    "- Like a contacts list in your phone → a name (key) gives a phone number (value).\n",
    "- Like a student ID card → ID number (key) points to student details (value)."
   ]
  },
  {
   "cell_type": "code",
   "execution_count": 2,
   "id": "331e8f2b",
   "metadata": {},
   "outputs": [],
   "source": [
    "student={\n",
    "    'name': 'John',\n",
    "    'age': 21,\n",
    "    'courses': ['Math', 'Science', 'English']\n",
    "}"
   ]
  },
  {
   "cell_type": "code",
   "execution_count": 6,
   "metadata": {},
   "outputs": [
    {
     "name": "stdout",
     "output_type": "stream",
     "text": [
      "{'name': 'John', 'age': 21, 'courses': ['Math', 'Science', 'English']}\n",
      "John\n",
      "21\n",
      "['Math', 'Science', 'English']\n"
     ]
    }
   ],
   "source": [
    "print(student)\n",
    "print(student['name'])\n",
    "print(student['age'])\n",
    "print(student['courses'])"
   ]
  },
  {
   "cell_type": "code",
   "execution_count": 8,
   "id": "d8ebeac9",
   "metadata": {},
   "outputs": [
    {
     "name": "stdout",
     "output_type": "stream",
     "text": [
      "{'name': 'John', 'age': 21, 'courses': ['Math', 'Science', 'English'], 'phone': '03468714344'}\n"
     ]
    }
   ],
   "source": [
    "# Adding Data to Dictionary \n",
    "\n",
    "student['phone'] = '03468714344'\n",
    "print(student)"
   ]
  },
  {
   "cell_type": "code",
   "execution_count": 9,
   "metadata": {},
   "outputs": [],
   "source": [
    "# Removing Item from Array\n",
    "\n",
    "del student['age']"
   ]
  },
  {
   "cell_type": "code",
   "execution_count": 10,
   "metadata": {},
   "outputs": [
    {
     "name": "stdout",
     "output_type": "stream",
     "text": [
      "{'name': 'John', 'courses': ['Math', 'Science', 'English'], 'phone': '03468714344'}\n"
     ]
    }
   ],
   "source": [
    "print(student)"
   ]
  },
  {
   "cell_type": "code",
   "execution_count": 18,
   "metadata": {},
   "outputs": [
    {
     "name": "stdout",
     "output_type": "stream",
     "text": [
      "dict_keys(['name', 'courses', 'phone'])\n",
      "dict_values(['John', ['Math', 'Science', 'English'], '03468714344'])\n",
      "dict_items([('name', 'John'), ('courses', ['Math', 'Science', 'English']), ('phone', '03468714344')])\n"
     ]
    }
   ],
   "source": [
    "print(student.keys())\n",
    "print(student.values())\n",
    "print(student.items())"
   ]
  },
  {
   "cell_type": "code",
   "execution_count": 19,
   "id": "e3c4fd4a",
   "metadata": {},
   "outputs": [
    {
     "name": "stdout",
     "output_type": "stream",
     "text": [
      "name: John\n",
      "courses: ['Math', 'Science', 'English']\n",
      "phone: 03468714344\n"
     ]
    }
   ],
   "source": [
    "# Iterate over dictionary keys\n",
    "\n",
    "for key in student:\n",
    "    print(f\"{key}: {student[key]}\")"
   ]
  },
  {
   "cell_type": "code",
   "execution_count": null,
   "id": "01d1bef7",
   "metadata": {},
   "outputs": [],
   "source": [
    "# 1)  Make a dictionary of MotorBike and Store Data in it and Then Print it\n",
    "# 2) Make an dictionary of Phonebook were key are the names and values are the phone numbers, then print some \n",
    "#   friend phone numbers"
   ]
  },
  {
   "cell_type": "markdown",
   "id": "8c1aee03",
   "metadata": {},
   "source": [
    "# Object-Oriented Programming (OOP)\n",
    "\n",
    "## Definition\n",
    "OOP is a way of programming where we create blueprints (classes) to build real objects that have both data (attributes) and behaviors (methods).\n",
    "\n",
    "## Simple Analogies\n",
    "- Like a house blueprint (class) → you can build many houses (objects) from it.\n",
    "- Like a car company → the design (class) makes many cars (objects).\n",
    "- Like a cookie cutter (class) → it makes multiple cookies (objects) of the same shape."
   ]
  },
  {
   "cell_type": "code",
   "execution_count": 33,
   "id": "9b75bc97",
   "metadata": {},
   "outputs": [
    {
     "name": "stdout",
     "output_type": "stream",
     "text": [
      "Hi!\n",
      "Hi!\n"
     ]
    }
   ],
   "source": [
    "class Person:\n",
    "    def sayHi(self):\n",
    "        print(\"Hi!\")\n",
    "\n",
    "watchMan=Person()\n",
    "watchMan.sayHi()\n",
    "carDriver=Person()\n",
    "carDriver.sayHi()"
   ]
  },
  {
   "cell_type": "markdown",
   "id": "9348fb6c",
   "metadata": {},
   "source": [
    "## An instance of an object is a specific copy created from a class.\n",
    "👉 Example: If Car is a class, then my_car = Car() is an instance (object) of that class."
   ]
  },
  {
   "cell_type": "markdown",
   "id": "12df9a2a",
   "metadata": {},
   "source": [
    "# Constructors\n",
    "\n",
    "## Definition\n",
    "A constructor is a special method in a class that runs automatically when a new object is created.\n",
    "In Python, the constructor is defined using __init__."
   ]
  },
  {
   "cell_type": "code",
   "execution_count": 30,
   "id": "c92cbbc4",
   "metadata": {},
   "outputs": [],
   "source": [
    "class Person:\n",
    "    def __init__(self,name,age):\n",
    "        self.name = name\n",
    "        self.age = age\n",
    "    def tellMyName(self):\n",
    "        print(f\"My name is {self.name}\")\n",
    "    def tellMyAge(self):\n",
    "        print(f\"My age is {self.age}\")"
   ]
  },
  {
   "cell_type": "code",
   "execution_count": 31,
   "id": "ff33f926",
   "metadata": {},
   "outputs": [
    {
     "name": "stdout",
     "output_type": "stream",
     "text": [
      "My age is 30\n",
      "My name is Ali\n"
     ]
    }
   ],
   "source": [
    "salesPerson= Person(\"Ali\", 30)\n",
    "\n",
    "salesPerson.tellMyAge()\n",
    "salesPerson.tellMyName()"
   ]
  },
  {
   "cell_type": "code",
   "execution_count": 32,
   "metadata": {},
   "outputs": [
    {
     "name": "stdout",
     "output_type": "stream",
     "text": [
      "30\n"
     ]
    }
   ],
   "source": [
    "# Direct Values also \n",
    "print(salesPerson.age)"
   ]
  },
  {
   "cell_type": "code",
   "execution_count": null,
   "id": "ed2d971c",
   "metadata": {},
   "outputs": [],
   "source": []
  },
  {
   "cell_type": "code",
   "execution_count": null,
   "metadata": {},
   "outputs": [],
   "source": []
  },
  {
   "cell_type": "code",
   "execution_count": null,
   "id": "1d4fe145",
   "metadata": {},
   "outputs": [],
   "source": []
  },
  {
   "cell_type": "code",
   "execution_count": null,
   "id": "68670183",
   "metadata": {},
   "outputs": [],
   "source": []
  }
 ],
 "metadata": {
  "kernelspec": {
   "display_name": "Python 3",
   "language": "python",
   "name": "python3"
  },
  "language_info": {
   "codemirror_mode": {
    "name": "ipython",
    "version": 3
   },
   "file_extension": ".py",
   "mimetype": "text/x-python",
   "name": "python",
   "nbconvert_exporter": "python",
   "pygments_lexer": "ipython3",
   "version": "3.13.7"
  }
 },
 "nbformat": 4,
 "nbformat_minor": 5
}
