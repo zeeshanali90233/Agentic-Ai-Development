{
 "cells": [
  {
   "cell_type": "markdown",
   "id": "b5461249",
   "metadata": {},
   "source": [
    "# Chatbot\n",
    "## Definition\n",
    "A chatbot is a software application designed to simulate human conversation, usually through text or voice, often following predefined rules or scripts."
   ]
  },
  {
   "cell_type": "markdown",
   "id": "71a6ac5b",
   "metadata": {},
   "source": [
    "# AI Agent\n",
    "## Definition\n",
    "An AI agent is a system that uses artificial intelligence to understand context, make decisions, and take actions autonomously to achieve specific goals."
   ]
  },
  {
   "cell_type": "markdown",
   "id": "4d1cd3d0",
   "metadata": {},
   "source": [
    "# Chatbot vs AI Agent  \n",
    "\n",
    "| Feature             | Chatbot 🗨️                         | AI Agent 🤖                              |  \n",
    "|---------------------|-----------------------------------|------------------------------------------|  \n",
    "| **Intelligence**    | Rule-based, limited responses     | Context-aware, adaptive, learns over time |  \n",
    "| **Functionality**   | Answers questions only            | Can make decisions & take actions         |  \n",
    "| **Flexibility**     | Works within fixed scripts        | Dynamic, handles unexpected inputs        |  \n",
    "| **Examples**        | FAQ bot, customer support bot     | Virtual assistant, task automation agent  |  \n"
   ]
  },
  {
   "cell_type": "markdown",
   "id": "f3fe825b",
   "metadata": {},
   "source": [
    "### Google Gemini SDK\n",
    "\n",
    "https://github.com/googleapis/python-genai"
   ]
  },
  {
   "cell_type": "code",
   "execution_count": 2,
   "id": "c9ecdf42",
   "metadata": {},
   "outputs": [
    {
     "name": "stdout",
     "output_type": "stream",
     "text": [
      "Collecting google-genai\n",
      "  Downloading google_genai-1.31.0-py3-none-any.whl.metadata (43 kB)\n",
      "Requirement already satisfied: anyio<5.0.0,>=4.8.0 in c:\\users\\786\\desktop\\sessions\\agentic ai 2 month skill ustad\\venv\\lib\\site-packages (from google-genai) (4.10.0)\n",
      "Requirement already satisfied: google-auth<3.0.0,>=2.14.1 in c:\\users\\786\\desktop\\sessions\\agentic ai 2 month skill ustad\\venv\\lib\\site-packages (from google-genai) (2.40.3)\n",
      "Requirement already satisfied: httpx<1.0.0,>=0.28.1 in c:\\users\\786\\desktop\\sessions\\agentic ai 2 month skill ustad\\venv\\lib\\site-packages (from google-genai) (0.28.1)\n",
      "Requirement already satisfied: pydantic<3.0.0,>=2.0.0 in c:\\users\\786\\desktop\\sessions\\agentic ai 2 month skill ustad\\venv\\lib\\site-packages (from google-genai) (2.11.7)\n",
      "Requirement already satisfied: requests<3.0.0,>=2.28.1 in c:\\users\\786\\desktop\\sessions\\agentic ai 2 month skill ustad\\venv\\lib\\site-packages (from google-genai) (2.32.5)\n",
      "Requirement already satisfied: tenacity<9.2.0,>=8.2.3 in c:\\users\\786\\desktop\\sessions\\agentic ai 2 month skill ustad\\venv\\lib\\site-packages (from google-genai) (9.1.2)\n",
      "Collecting websockets<15.1.0,>=13.0.0 (from google-genai)\n",
      "  Using cached websockets-15.0.1-cp313-cp313-win_amd64.whl.metadata (7.0 kB)\n",
      "Requirement already satisfied: typing-extensions<5.0.0,>=4.11.0 in c:\\users\\786\\desktop\\sessions\\agentic ai 2 month skill ustad\\venv\\lib\\site-packages (from google-genai) (4.15.0)\n",
      "Requirement already satisfied: idna>=2.8 in c:\\users\\786\\desktop\\sessions\\agentic ai 2 month skill ustad\\venv\\lib\\site-packages (from anyio<5.0.0,>=4.8.0->google-genai) (3.10)\n",
      "Requirement already satisfied: sniffio>=1.1 in c:\\users\\786\\desktop\\sessions\\agentic ai 2 month skill ustad\\venv\\lib\\site-packages (from anyio<5.0.0,>=4.8.0->google-genai) (1.3.1)\n",
      "Requirement already satisfied: cachetools<6.0,>=2.0.0 in c:\\users\\786\\desktop\\sessions\\agentic ai 2 month skill ustad\\venv\\lib\\site-packages (from google-auth<3.0.0,>=2.14.1->google-genai) (5.5.2)\n",
      "Requirement already satisfied: pyasn1-modules>=0.2.1 in c:\\users\\786\\desktop\\sessions\\agentic ai 2 month skill ustad\\venv\\lib\\site-packages (from google-auth<3.0.0,>=2.14.1->google-genai) (0.4.2)\n",
      "Requirement already satisfied: rsa<5,>=3.1.4 in c:\\users\\786\\desktop\\sessions\\agentic ai 2 month skill ustad\\venv\\lib\\site-packages (from google-auth<3.0.0,>=2.14.1->google-genai) (4.9.1)\n",
      "Requirement already satisfied: certifi in c:\\users\\786\\desktop\\sessions\\agentic ai 2 month skill ustad\\venv\\lib\\site-packages (from httpx<1.0.0,>=0.28.1->google-genai) (2025.8.3)\n",
      "Requirement already satisfied: httpcore==1.* in c:\\users\\786\\desktop\\sessions\\agentic ai 2 month skill ustad\\venv\\lib\\site-packages (from httpx<1.0.0,>=0.28.1->google-genai) (1.0.9)\n",
      "Requirement already satisfied: h11>=0.16 in c:\\users\\786\\desktop\\sessions\\agentic ai 2 month skill ustad\\venv\\lib\\site-packages (from httpcore==1.*->httpx<1.0.0,>=0.28.1->google-genai) (0.16.0)\n",
      "Requirement already satisfied: annotated-types>=0.6.0 in c:\\users\\786\\desktop\\sessions\\agentic ai 2 month skill ustad\\venv\\lib\\site-packages (from pydantic<3.0.0,>=2.0.0->google-genai) (0.7.0)\n",
      "Requirement already satisfied: pydantic-core==2.33.2 in c:\\users\\786\\desktop\\sessions\\agentic ai 2 month skill ustad\\venv\\lib\\site-packages (from pydantic<3.0.0,>=2.0.0->google-genai) (2.33.2)\n",
      "Requirement already satisfied: typing-inspection>=0.4.0 in c:\\users\\786\\desktop\\sessions\\agentic ai 2 month skill ustad\\venv\\lib\\site-packages (from pydantic<3.0.0,>=2.0.0->google-genai) (0.4.1)\n",
      "Requirement already satisfied: charset_normalizer<4,>=2 in c:\\users\\786\\desktop\\sessions\\agentic ai 2 month skill ustad\\venv\\lib\\site-packages (from requests<3.0.0,>=2.28.1->google-genai) (3.4.3)\n",
      "Requirement already satisfied: urllib3<3,>=1.21.1 in c:\\users\\786\\desktop\\sessions\\agentic ai 2 month skill ustad\\venv\\lib\\site-packages (from requests<3.0.0,>=2.28.1->google-genai) (2.5.0)\n",
      "Requirement already satisfied: pyasn1>=0.1.3 in c:\\users\\786\\desktop\\sessions\\agentic ai 2 month skill ustad\\venv\\lib\\site-packages (from rsa<5,>=3.1.4->google-auth<3.0.0,>=2.14.1->google-genai) (0.6.1)\n",
      "Downloading google_genai-1.31.0-py3-none-any.whl (231 kB)\n",
      "Using cached websockets-15.0.1-cp313-cp313-win_amd64.whl (176 kB)\n",
      "Installing collected packages: websockets, google-genai\n",
      "\n",
      "   ---------------------------------------- 0/2 [websockets]\n",
      "   ---------------------------------------- 0/2 [websockets]\n",
      "   ---------------------------------------- 0/2 [websockets]\n",
      "   ---------------------------------------- 0/2 [websockets]\n",
      "   ---------------------------------------- 0/2 [websockets]\n",
      "   ---------------------------------------- 0/2 [websockets]\n",
      "   ---------------------------------------- 0/2 [websockets]\n",
      "   ---------------------------------------- 0/2 [websockets]\n",
      "   ---------------------------------------- 0/2 [websockets]\n",
      "   ---------------------------------------- 0/2 [websockets]\n",
      "   ---------------------------------------- 0/2 [websockets]\n",
      "   ---------------------------------------- 0/2 [websockets]\n",
      "   ---------------------------------------- 0/2 [websockets]\n",
      "   ---------------------------------------- 0/2 [websockets]\n",
      "   ---------------------------------------- 0/2 [websockets]\n",
      "   ---------------------------------------- 0/2 [websockets]\n",
      "   ---------------------------------------- 0/2 [websockets]\n",
      "   ---------------------------------------- 0/2 [websockets]\n",
      "   ---------------------------------------- 0/2 [websockets]\n",
      "   -------------------- ------------------- 1/2 [google-genai]\n",
      "   -------------------- ------------------- 1/2 [google-genai]\n",
      "   -------------------- ------------------- 1/2 [google-genai]\n",
      "   -------------------- ------------------- 1/2 [google-genai]\n",
      "   -------------------- ------------------- 1/2 [google-genai]\n",
      "   -------------------- ------------------- 1/2 [google-genai]\n",
      "   -------------------- ------------------- 1/2 [google-genai]\n",
      "   -------------------- ------------------- 1/2 [google-genai]\n",
      "   -------------------- ------------------- 1/2 [google-genai]\n",
      "   -------------------- ------------------- 1/2 [google-genai]\n",
      "   -------------------- ------------------- 1/2 [google-genai]\n",
      "   -------------------- ------------------- 1/2 [google-genai]\n",
      "   -------------------- ------------------- 1/2 [google-genai]\n",
      "   -------------------- ------------------- 1/2 [google-genai]\n",
      "   ---------------------------------------- 2/2 [google-genai]\n",
      "\n",
      "Successfully installed google-genai-1.31.0 websockets-15.0.1\n"
     ]
    }
   ],
   "source": [
    "!pip install google-genai"
   ]
  },
  {
   "cell_type": "code",
   "execution_count": null,
   "id": "63fdef75",
   "metadata": {},
   "outputs": [],
   "source": [
    "from google import genai\n",
    "from google.genai import types\n",
    "\n",
    "# Only run this block for Gemini Developer API\n",
    "client = genai.Client(api_key='<API_KEY>')"
   ]
  },
  {
   "cell_type": "code",
   "execution_count": 5,
   "id": "55798acc",
   "metadata": {},
   "outputs": [
    {
     "name": "stdout",
     "output_type": "stream",
     "text": [
      "The sky is blue due to a phenomenon called **Rayleigh scattering**. Here's a breakdown of why:\n",
      "\n",
      "*   **Sunlight and its components:** Sunlight is actually made up of all the colors of the rainbow.\n",
      "\n",
      "*   **Entering the atmosphere:** When sunlight enters the Earth's atmosphere, it collides with tiny air molecules (mostly nitrogen and oxygen).\n",
      "\n",
      "*   **Scattering of light:** This collision causes the sunlight to scatter in different directions.\n",
      "\n",
      "*   **Rayleigh scattering is key:**  Rayleigh scattering is more effective at scattering shorter wavelengths of light. Blue and violet light have shorter wavelengths than other colors like red and orange.\n",
      "\n",
      "*   **Blue dominates:** Because blue light is scattered more effectively, it gets scattered all over the sky. This is why we see the sky as blue.\n",
      "\n",
      "*   **Why not violet?:** Violet light is scattered even *more* than blue light. However, there are a couple of reasons why we see the sky as blue rather than violet:\n",
      "    *   The sun emits less violet light than blue light.\n",
      "    *   Our eyes are more sensitive to blue than violet.\n",
      "\n",
      "*   **Sunrise and Sunset:** At sunrise and sunset, the sunlight has to travel through more of the atmosphere to reach us. This means that most of the blue light has already been scattered away by the time it gets to our eyes. The longer wavelengths of light, like red and orange, are scattered less, so they dominate the colors we see during sunrise and sunset.\n",
      "\n",
      "In summary, the sky appears blue because air molecules scatter blue light from the sun more than they scatter other colors.\n",
      "\n"
     ]
    }
   ],
   "source": [
    "response = client.models.generate_content(\n",
    "    model='gemini-2.0-flash', contents='Why is the sky blue?'\n",
    ")\n",
    "print(response.text)"
   ]
  },
  {
   "cell_type": "code",
   "execution_count": 7,
   "id": "b5bd79f5",
   "metadata": {},
   "outputs": [
    {
     "name": "stdout",
     "output_type": "stream",
     "text": [
      "The sky is blue due to a phenomenon called **Rayleigh scattering**. Here's the breakdown:\n",
      "\n",
      "*   **Sunlight is white:** Sunlight actually contains all the colors of the rainbow.\n",
      "\n",
      "*   **Entering the atmosphere:** When sunlight enters the Earth's atmosphere, it collides with tiny air molecules (mostly nitrogen and oxygen).\n",
      "\n",
      "*   **Scattering:** This collision causes the sunlight to scatter in different directions.\n",
      "\n",
      "*   **Rayleigh scattering favors shorter wavelengths:** Rayleigh scattering is more effective at scattering shorter wavelengths of light. Blue and violet light have the shortest wavelengths in the visible spectrum.\n",
      "\n",
      "*   **Why not violet?** While violet light is scattered even more than blue light, there are a couple of reasons why we see a blue sky:\n",
      "\n",
      "    *   The sun emits slightly less violet light than blue light.\n",
      "    *   Our eyes are more sensitive to blue light than violet light.\n",
      "\n",
      "*   **Therefore:** Because blue light is scattered more efficiently than other colors, we see a blue sky.\n",
      "\n",
      "**In simpler terms:** Imagine throwing a small ball (blue light) and a larger ball (red light) at a bunch of obstacles. The smaller ball is more likely to bounce off in different directions, while the larger ball is more likely to go straight through. The same thing happens with light in the atmosphere.\n",
      "\n"
     ]
    }
   ],
   "source": [
    "response = client.models.generate_content(\n",
    "    model='gemini-2.0-flash', contents='Why is the sky blue?'\n",
    ")\n",
    "print(response.text)"
   ]
  },
  {
   "cell_type": "code",
   "execution_count": 10,
   "id": "ad4d7103",
   "metadata": {},
   "outputs": [
    {
     "name": "stdout",
     "output_type": "stream",
     "text": [
      "As a software engineer, I can tell you that creating true, general AI in a single line of code is impossible. AI development requires complex algorithms, vast datasets, and significant computational resources. It's a field involving machine learning, deep learning, natural language processing, and many other specialized areas.\n",
      "\n",
      "However, if you are talking about calling an API that has already prebuilt AI models and exposing that into your program, that would require one line. Here is an example of doing so\n",
      "\n",
      "```python\n",
      "import openai; response = openai.Completion.create(engine=\"davinci\", prompt=\"Write a poem about the ocean.\", max_tokens=100)\n",
      "```\n",
      "\n",
      "This is an example of calling OpenAI's davinci model to generate a poem about the ocean. This does not mean that it is creating an AI but simply calling an API that has already prebuilt AI models.\n",
      "\n"
     ]
    }
   ],
   "source": [
    "response = client.models.generate_content(\n",
    "    model='gemini-2.0-flash', contents='How to make AI in 1 line',\n",
    "    config=types.GenerateContentConfig(\n",
    "    system_instruction=\"You are an software engineer who only answer related queries.\"),\n",
    ")\n",
    "print(response.text)"
   ]
  },
  {
   "cell_type": "code",
   "execution_count": null,
   "id": "c56cd7a1",
   "metadata": {},
   "outputs": [],
   "source": [
    "# Due to parent prompt setting it will not give any other answer\n",
    "\n",
    "\n",
    "# ================>>>>>>>>> CHATBOT\n",
    "\n",
    "response = client.models.generate_content(\n",
    "    model='gemini-2.0-flash', contents='How to swim',\n",
    "    config=types.GenerateContentConfig(\n",
    "    system_instruction=\"You are an software engineer who only answer related queries.\"),\n",
    ")\n",
    "print(response.text)\n",
    "\n",
    "\n",
    "#=================>>>>>>>> CHATBOT"
   ]
  },
  {
   "cell_type": "markdown",
   "id": "2963fb93",
   "metadata": {},
   "source": [
    "## Prompt Engineering\n",
    "\n",
    "**Prompt Engineering** is the practice of designing and optimizing input prompts to get accurate, useful, and reliable outputs from Large Language Models (LLMs).  \n",
    "A well-structured prompt guides the model’s reasoning and helps avoid irrelevant or incorrect answers.\n"
   ]
  },
  {
   "cell_type": "markdown",
   "id": "c34bb7f1",
   "metadata": {},
   "source": [
    "### 🔑 Types of Prompting\n",
    "\n",
    "#### 1. Zero-Shot Prompting\n",
    "In **zero-shot**, the model is asked to perform a task without being given any prior examples.  \n",
    "It relies entirely on the instructions in the prompt.\n",
    "\n",
    "** Example **\n",
    "\n",
    "```\n",
    "Translate this sentence into French:\n",
    "\"I love learning artificial intelligence.\" \n",
    "```"
   ]
  },
  {
   "cell_type": "markdown",
   "id": "7efa8830",
   "metadata": {},
   "source": [
    "#### 2. Few-Shot Prompting\n",
    "In **few-shot**, the model is given **a few examples** to learn the pattern before answering.  \n",
    "This helps the model generalize better for the desired task.\n",
    "\n",
    " ** Example **\n",
    "\n",
    "```\n",
    "Translate the following sentences into French:\n",
    "\n",
    "English: Good morning\n",
    "French: Bonjour\n",
    "\n",
    "English: How are you?\n",
    "French: Comment ça va?\n",
    "\n",
    "English: I am learning AI\n",
    "French: \n",
    "```"
   ]
  },
  {
   "cell_type": "markdown",
   "id": "6e7feb7a",
   "metadata": {},
   "source": [
    "\n",
    "#### 3. Chain-of-Thought (CoT) Prompting\n",
    "**Chain-of-Thought prompting** encourages the model to **show intermediate reasoning steps** before giving the final answer.  \n",
    "This is especially useful for math, logic, and multi-step reasoning tasks.\n",
    "\n",
    "\n",
    "**Example**  \n",
    "\n",
    "```\n",
    "Prompt:  If a pen costs $2 and a notebook costs $5, how much do 3 pens and 2 notebooks cost?\n",
    "Explain step by step.\n",
    "\n",
    "Output:  \n",
    "Step 1: Cost of 3 pens = 3 × $2 = $6\n",
    "Step 2: Cost of 2 notebooks = 2 × $5 = $10\n",
    "Step 3: Total = $6 + $10 = $16\n",
    "\n",
    "Answer: $16\n",
    "\n",
    "```"
   ]
  },
  {
   "cell_type": "markdown",
   "id": "55f8fc0b",
   "metadata": {},
   "source": [
    "\n",
    "#### 4. Few-Shot Chain-of-Thought Prompting\n",
    "Combines **examples** with **reasoning steps** to maximize accuracy.  \n",
    "\n",
    "\n",
    "**Example**  \n",
    "\n",
    "```\n",
    "Prompt:  \n",
    "Q: If there are 4 apples and you eat 1, how many are left?\n",
    "A: Step 1: Start with 4 apples.\n",
    "Step 2: Eat 1 apple.\n",
    "Step 3: 4 - 1 = 3.\n",
    "Answer: 3\n",
    "\n",
    "Now solve:\n",
    "Q: A box has 10 chocolates. You give 3 to a friend. How many are left?\n",
    "Output: \n",
    "Step 1: Start with 10 chocolates.\n",
    "Step 2: Give 3 away.\n",
    "Step 3: 10 - 3 = 7.\n",
    "Answer: 7\n",
    "\n",
    "```"
   ]
  },
  {
   "cell_type": "markdown",
   "id": "9e3bb8e9",
   "metadata": {},
   "source": [
    "#### 5. Role/Persona Prompting\n",
    "The model is asked to **act as a specific role** (teacher, doctor, developer, etc.) to shape its responses.\n",
    "\n",
    "**Example**\n",
    "```\n",
    "Prompt: \n",
    "You are an expert Python developer.\n",
    "Explain how a \"for loop\" works to a beginner.\n",
    "Output:\n",
    "A \"for loop\" repeats code a certain number of times. For example:\n",
    "\n",
    "for i in range(3):\n",
    "print(\"Hello\")\n",
    "\n",
    "This will print \"Hello\" three times.\n",
    "\n",
    "```"
   ]
  },
  {
   "cell_type": "markdown",
   "id": "26c23f29",
   "metadata": {},
   "source": [
    "\n",
    "---\n",
    "\n",
    "### 🎯 Summary\n",
    "- **Zero-Shot** → No examples, direct task.  \n",
    "- **Few-Shot** → Provide a few examples.  \n",
    "- **Chain-of-Thought** → Ask for reasoning steps.  \n",
    "- **Few-Shot + CoT** → Examples + reasoning.  \n",
    "- **Role Prompting** → Assign a persona for context.  \n",
    "\n",
    "Prompt engineering is about **guiding the model’s reasoning** to improve accuracy, consistency, and reliability.\n"
   ]
  },
  {
   "cell_type": "markdown",
   "id": "fd7c6c27",
   "metadata": {},
   "source": [
    "# LangChain  \n",
    "\n",
    "## Definition  \n",
    "LangChain is a framework for building applications powered by large language models (LLMs). It provides tools to connect models with external data sources, memory, and reasoning chains, making LLMs more practical and powerful.  \n"
   ]
  },
  {
   "cell_type": "markdown",
   "id": "f8407a61",
   "metadata": {},
   "source": [
    "# LangGraph  \n",
    "\n",
    "## Definition  \n",
    "LangGraph is a framework built on top of LangChain that allows developers to design, visualize, and control the flow of AI applications as graphs, making complex multi-step reasoning and agent workflows easier to manage.  \n"
   ]
  }
 ],
 "metadata": {
  "kernelspec": {
   "display_name": "venv",
   "language": "python",
   "name": "python3"
  },
  "language_info": {
   "codemirror_mode": {
    "name": "ipython",
    "version": 3
   },
   "file_extension": ".py",
   "mimetype": "text/x-python",
   "name": "python",
   "nbconvert_exporter": "python",
   "pygments_lexer": "ipython3",
   "version": "3.13.7"
  }
 },
 "nbformat": 4,
 "nbformat_minor": 5
}
